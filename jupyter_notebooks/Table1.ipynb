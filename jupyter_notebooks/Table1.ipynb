{
 "cells": [
  {
   "cell_type": "code",
   "execution_count": 1,
   "metadata": {},
   "outputs": [
    {
     "name": "stderr",
     "output_type": "stream",
     "text": [
      "Using TensorFlow backend.\n"
     ]
    },
    {
     "name": "stdout",
     "output_type": "stream",
     "text": [
      "/Users/storm/git/Multi-resBind/jupyter_notebooks\n"
     ]
    },
    {
     "name": "stderr",
     "output_type": "stream",
     "text": [
      "../Scripts/plotseqlogo.py:41: FutureWarning: arrays to stack must be passed as a \"sequence\" type such as list or tuple. Support for non-sequence iterables such as generators is deprecated as of NumPy 1.16 and will raise an error in the future.\n",
      "  min_coords = np.vstack(data.min(0) for data in polygons_data).min(0)\n",
      "../Scripts/plotseqlogo.py:42: FutureWarning: arrays to stack must be passed as a \"sequence\" type such as list or tuple. Support for non-sequence iterables such as generators is deprecated as of NumPy 1.16 and will raise an error in the future.\n",
      "  max_coords = np.vstack(data.max(0) for data in polygons_data).max(0)\n"
     ]
    }
   ],
   "source": [
    "import os\n",
    "import numpy as np\n",
    "import h5py\n",
    "import scipy.io\n",
    "np.random.seed(7) # for reproducibility\n",
    "\n",
    "import keras.backend as K\n",
    "from keras.models import Model, load_model\n",
    "\n",
    "import matplotlib.pyplot as plt\n",
    "import matplotlib\n",
    "#from concise.utils.plot import seqlogo, seqlogo_fig\n",
    "\n",
    "import sys\n",
    "print (os.getcwd())\n",
    "sys.path.append(\"../Scripts/\")\n",
    "from IntegratedGradients import *\n",
    "from util_funcs import *\n",
    "from plotseqlogo import seqlogo, seqlogo_fig"
   ]
  },
  {
   "cell_type": "code",
   "execution_count": 2,
   "metadata": {},
   "outputs": [
    {
     "name": "stderr",
     "output_type": "stream",
     "text": [
      "/anaconda3/lib/python3.7/site-packages/IPython/extensions/rmagic.py:11: UserWarning: The rmagic extension in IPython has moved to `rpy2.ipython`, please see `rpy2` documentation.\n",
      "  warnings.warn(\"The rmagic extension in IPython has moved to \"\n"
     ]
    }
   ],
   "source": [
    "### library to use R\n",
    "%load_ext rpy2.ipython\n",
    "%load_ext rmagic"
   ]
  },
  {
   "cell_type": "code",
   "execution_count": 3,
   "metadata": {},
   "outputs": [],
   "source": [
    "def load_data_PU(path_to_data):\n",
    "\n",
    "    data = h5py.File(path_to_data,'r')\n",
    "    X_test_seq = np.transpose(np.array(data['test_in_seq']),axes=(0,2,1))\n",
    "    X_test_annotation = np.transpose(np.array(data['test_in_annotation']),axes=(0,2,1))\n",
    "    X_test_region = np.transpose(np.array(data['test_in_region']),axes=(0, 2, 1))\n",
    "    y_test_RBP = np.array(data['test_out'])\n",
    "    y_test_name= np.array(data['test_name'])\n",
    "    y_train= np.array(data['train_out'])\n",
    "    data.close()\n",
    "\n",
    "    return X_test_seq, X_test_annotation, X_test_region, y_test_RBP, y_test_name, y_train"
   ]
  },
  {
   "cell_type": "code",
   "execution_count": 4,
   "metadata": {},
   "outputs": [
    {
     "name": "stdout",
     "output_type": "stream",
     "text": [
      "(7969, 150, 4)\n",
      "(7969, 150, 2)\n",
      "(7969, 250, 4)\n",
      "(7969, 27)\n",
      "(7969,)\n",
      "(56547, 27)\n"
     ]
    }
   ],
   "source": [
    "# add the absolute path of data directory to the path_to_data\n",
    "path_to_data = \"/Users/storm/git/Multi-resBind/data/\"\n",
    "path_to_datalow = path_to_data + \"data_RBPslow_RNAplfold.h5\"\n",
    "X_test_seq_low,X_test_annotation_low, X_test_region_low, y_test_RBP_low, y_test_name_low, y_train_low = load_data_PU(path_to_datalow)\n",
    "print (X_test_seq_low.shape)\n",
    "print (X_test_annotation_low.shape)\n",
    "print (X_test_region_low.shape)\n",
    "print (y_test_RBP_low.shape)\n",
    "print (y_test_name_low.shape)\n",
    "print (y_train_low.shape)"
   ]
  },
  {
   "cell_type": "code",
   "execution_count": 5,
   "metadata": {},
   "outputs": [
    {
     "name": "stdout",
     "output_type": "stream",
     "text": [
      "(7969, 150, 6)\n",
      "(7969, 150, 8)\n",
      "(7969, 150, 6)\n",
      "(7969, 150, 10)\n"
     ]
    }
   ],
   "source": [
    "a = np.concatenate((X_test_seq_low, X_test_annotation_low), axis=2)\n",
    "b = np.concatenate((X_test_seq_low, X_test_region_low[:, 50:200, :]), axis=2)\n",
    "c = np.concatenate((X_test_region_low[:, 50:200, :], X_test_annotation_low), axis=2)\n",
    "d = np.concatenate((X_test_seq_low, X_test_region_low[:, 50:200, :], X_test_annotation_low), axis=2)\n",
    "print (a.shape)\n",
    "print (b.shape)\n",
    "print (c.shape)\n",
    "print (d.shape)"
   ]
  },
  {
   "cell_type": "code",
   "execution_count": 6,
   "metadata": {},
   "outputs": [],
   "source": [
    "#load models and obtain prediction and integrated_gradients\n",
    "# add the absolute path of results directory to the path_to_model\n",
    "path_to_model = \"/Users/storm/git/Multi-resBind/results/input_combination_RNAplfold/\"\n",
    "path_to_model_seq= path_to_model + \"m_resbind_input_PU_1_model.h5\"\n",
    "path_to_model_struc= path_to_model + \"m_resbind_input_PU_2_model.h5\"\n",
    "path_to_model_region= path_to_model + \"m_resbind_input_PU_3_model.h5\"\n",
    "path_to_model_seq_struc= path_to_model + \"m_resbind_input_PU_4_model.h5\"\n",
    "path_to_model_seq_region= path_to_model + \"m_resbind_input_PU_5_model.h5\"\n",
    "path_to_model_struc_region= path_to_model + \"m_resbind_input_PU_6_model.h5\"\n",
    "path_to_model_seq_struc_region = path_to_model + \"m_resbind_input_PU_7_model.h5\""
   ]
  },
  {
   "cell_type": "code",
   "execution_count": 7,
   "metadata": {
    "scrolled": true
   },
   "outputs": [
    {
     "name": "stdout",
     "output_type": "stream",
     "text": [
      "WARNING:tensorflow:From /anaconda3/lib/python3.7/site-packages/tensorflow/python/ops/resource_variable_ops.py:435: colocate_with (from tensorflow.python.framework.ops) is deprecated and will be removed in a future version.\n",
      "Instructions for updating:\n",
      "Colocations handled automatically by placer.\n"
     ]
    },
    {
     "name": "stderr",
     "output_type": "stream",
     "text": [
      "2021-05-11 11:02:30,947 [WARNING] From /anaconda3/lib/python3.7/site-packages/tensorflow/python/ops/resource_variable_ops.py:435: colocate_with (from tensorflow.python.framework.ops) is deprecated and will be removed in a future version.\n",
      "Instructions for updating:\n",
      "Colocations handled automatically by placer.\n"
     ]
    },
    {
     "name": "stdout",
     "output_type": "stream",
     "text": [
      "WARNING:tensorflow:From /anaconda3/lib/python3.7/site-packages/tensorflow/python/ops/math_ops.py:3066: to_int32 (from tensorflow.python.ops.math_ops) is deprecated and will be removed in a future version.\n",
      "Instructions for updating:\n",
      "Use tf.cast instead.\n"
     ]
    },
    {
     "name": "stderr",
     "output_type": "stream",
     "text": [
      "2021-05-11 11:02:32,096 [WARNING] From /anaconda3/lib/python3.7/site-packages/tensorflow/python/ops/math_ops.py:3066: to_int32 (from tensorflow.python.ops.math_ops) is deprecated and will be removed in a future version.\n",
      "Instructions for updating:\n",
      "Use tf.cast instead.\n"
     ]
    }
   ],
   "source": [
    "model_seq=load_model(path_to_model_seq, custom_objects={'precision': precision,'recall': recall }) \n",
    "pred_seq=model_seq.predict(X_test_seq_low)"
   ]
  },
  {
   "cell_type": "code",
   "execution_count": 8,
   "metadata": {},
   "outputs": [],
   "source": [
    "model_struc=load_model(path_to_model_struc, custom_objects={'precision': precision,'recall': recall }) \n",
    "pred_struc=model_struc.predict(X_test_annotation_low)"
   ]
  },
  {
   "cell_type": "code",
   "execution_count": 9,
   "metadata": {},
   "outputs": [],
   "source": [
    "model_region=load_model(path_to_model_region, custom_objects={'precision': precision,'recall': recall }) \n",
    "pred_region=model_region.predict(X_test_region_low[:, 50:200, :])"
   ]
  },
  {
   "cell_type": "code",
   "execution_count": 10,
   "metadata": {},
   "outputs": [],
   "source": [
    "model_seq_struc=load_model(path_to_model_seq_struc, custom_objects={'precision': precision,'recall': recall }) \n",
    "pred_seq_struc=model_seq_struc.predict(a)"
   ]
  },
  {
   "cell_type": "code",
   "execution_count": 11,
   "metadata": {},
   "outputs": [],
   "source": [
    "model_seq_region=load_model(path_to_model_seq_region, custom_objects={'precision': precision,'recall': recall }) \n",
    "pred_seq_region=model_seq_region.predict(b)"
   ]
  },
  {
   "cell_type": "code",
   "execution_count": 12,
   "metadata": {},
   "outputs": [],
   "source": [
    "model_struc_region=load_model(path_to_model_struc_region, custom_objects={'precision': precision,'recall': recall }) \n",
    "pred_struc_region=model_struc_region.predict(c)"
   ]
  },
  {
   "cell_type": "code",
   "execution_count": 13,
   "metadata": {},
   "outputs": [],
   "source": [
    "model_seq_struc_region=load_model(path_to_model_seq_struc_region, custom_objects={'precision': precision,'recall': recall }) \n",
    "pred_seq_struc_region=model_seq_struc_region.predict(d)"
   ]
  },
  {
   "cell_type": "code",
   "execution_count": 14,
   "metadata": {},
   "outputs": [],
   "source": [
    "#RBPnames for each model\n",
    "RBPnames_low=np.array(['MBNL1', 'P53_NONO', 'PUM2', 'QKI', 'AGO3', 'FUS', 'TAF15', 'ZFP36', 'DICER1', 'EIF3A', 'EIF3D', 'EIF3G', 'SSB', 'PAPD5', 'CPSF4', 'CPSF3', 'RTCB', 'FXR1', 'NOP58', 'NOP56', 'FBL', 'LIN28A', 'LIN28B', 'UPF1', 'G35', 'G45', 'XPO5'])"
   ]
  },
  {
   "cell_type": "code",
   "execution_count": 15,
   "metadata": {},
   "outputs": [],
   "source": [
    "#number of tasks for each model\n",
    "num_task_low=len(RBPnames_low)"
   ]
  },
  {
   "cell_type": "code",
   "execution_count": 16,
   "metadata": {},
   "outputs": [],
   "source": [
    "from sklearn.metrics import precision_recall_curve\n",
    "from sklearn.metrics import average_precision_score\n",
    "from sklearn.metrics import roc_curve, auc\n",
    "from sklearn.metrics import roc_auc_score\n",
    "import numpy as np\n",
    "from matplotlib.font_manager import FontProperties\n",
    "import matplotlib as mpl\n",
    "import matplotlib"
   ]
  },
  {
   "cell_type": "code",
   "execution_count": 17,
   "metadata": {},
   "outputs": [],
   "source": [
    "y_true=y_test_RBP_low\n",
    "type(y_true) == np.ndarray\n",
    "y_pred_seq=pred_seq\n",
    "y_pred_struc=pred_struc\n",
    "y_pred_region=pred_region\n",
    "y_pred_seq_struc=pred_seq_struc\n",
    "y_pred_seq_region=pred_seq_region\n",
    "y_pred_struc_region=pred_struc_region\n",
    "y_pred_seq_struc_region=pred_seq_struc_region"
   ]
  },
  {
   "cell_type": "code",
   "execution_count": 18,
   "metadata": {},
   "outputs": [],
   "source": [
    "precision_low = l = [None] * len(RBPnames_low)\n",
    "recall_low = [None] * len(RBPnames_low)\n",
    "average_precision_low = [None] * len(RBPnames_low)\n",
    "\n",
    "fpr_low = [None] * len(RBPnames_low)\n",
    "tpr_low = [None] * len(RBPnames_low)\n",
    "roc_auc_low = [None] * len(RBPnames_low)\n",
    "pr_auc_low = [None] * len(RBPnames_low)\n",
    "\n",
    "for i in range(num_task_low):\n",
    "    precision_low[i], recall_low[i], _ = precision_recall_curve(y_true[:, i],y_pred_seq[:, i])\n",
    "    average_precision_low[i] = average_precision_score(y_true[:, i], y_pred_seq[:, i])\n",
    "    pr_auc_low [i]= auc(recall_low[i],precision_low[i])\n",
    "    fpr_low[i], tpr_low[i], _ = roc_curve(y_true[:, i], y_pred_seq[:, i])\n",
    "    roc_auc_low[i] = auc(fpr_low[i], tpr_low[i])\n",
    "average_precision_seq = average_precision_low\n",
    "roc_auc_seq = roc_auc_low"
   ]
  },
  {
   "cell_type": "code",
   "execution_count": 19,
   "metadata": {},
   "outputs": [],
   "source": [
    "precision_low = l = [None] * len(RBPnames_low)\n",
    "recall_low = [None] * len(RBPnames_low)\n",
    "average_precision_low = [None] * len(RBPnames_low)\n",
    "\n",
    "fpr_low = [None] * len(RBPnames_low)\n",
    "tpr_low = [None] * len(RBPnames_low)\n",
    "roc_auc_low = [None] * len(RBPnames_low)\n",
    "pr_auc_low = [None] * len(RBPnames_low)\n",
    "\n",
    "for i in range(num_task_low):\n",
    "    precision_low[i], recall_low[i], _ = precision_recall_curve(y_true[:, i],y_pred_struc[:, i])\n",
    "    average_precision_low[i] = average_precision_score(y_true[:, i], y_pred_struc[:, i])\n",
    "    pr_auc_low [i]= auc(recall_low[i],precision_low[i])\n",
    "    fpr_low[i], tpr_low[i], _ = roc_curve(y_true[:, i], y_pred_struc[:, i])\n",
    "    roc_auc_low[i] = auc(fpr_low[i], tpr_low[i])\n",
    "average_precision_struc = average_precision_low\n",
    "roc_auc_struc = roc_auc_low"
   ]
  },
  {
   "cell_type": "code",
   "execution_count": 20,
   "metadata": {},
   "outputs": [],
   "source": [
    "precision_low = l = [None] * len(RBPnames_low)\n",
    "recall_low = [None] * len(RBPnames_low)\n",
    "average_precision_low = [None] * len(RBPnames_low)\n",
    "\n",
    "fpr_low = [None] * len(RBPnames_low)\n",
    "tpr_low = [None] * len(RBPnames_low)\n",
    "roc_auc_low = [None] * len(RBPnames_low)\n",
    "pr_auc_low = [None] * len(RBPnames_low)\n",
    "\n",
    "for i in range(num_task_low):\n",
    "    precision_low[i], recall_low[i], _ = precision_recall_curve(y_true[:, i],y_pred_region[:, i])\n",
    "    average_precision_low[i] = average_precision_score(y_true[:, i], y_pred_region[:, i])\n",
    "    pr_auc_low [i]= auc(recall_low[i],precision_low[i])\n",
    "    fpr_low[i], tpr_low[i], _ = roc_curve(y_true[:, i], y_pred_region[:, i])\n",
    "    roc_auc_low[i] = auc(fpr_low[i], tpr_low[i])\n",
    "average_precision_region = average_precision_low\n",
    "roc_auc_region = roc_auc_low"
   ]
  },
  {
   "cell_type": "code",
   "execution_count": 21,
   "metadata": {},
   "outputs": [],
   "source": [
    "precision_low = l = [None] * len(RBPnames_low)\n",
    "recall_low = [None] * len(RBPnames_low)\n",
    "average_precision_low = [None] * len(RBPnames_low)\n",
    "\n",
    "fpr_low = [None] * len(RBPnames_low)\n",
    "tpr_low = [None] * len(RBPnames_low)\n",
    "roc_auc_low = [None] * len(RBPnames_low)\n",
    "pr_auc_low = [None] * len(RBPnames_low)\n",
    "\n",
    "for i in range(num_task_low):\n",
    "    precision_low[i], recall_low[i], _ = precision_recall_curve(y_true[:, i],y_pred_seq_struc[:, i])\n",
    "    average_precision_low[i] = average_precision_score(y_true[:, i], y_pred_seq_struc[:, i])\n",
    "    pr_auc_low [i]= auc(recall_low[i],precision_low[i])\n",
    "    fpr_low[i], tpr_low[i], _ = roc_curve(y_true[:, i], y_pred_seq_struc[:, i])\n",
    "    roc_auc_low[i] = auc(fpr_low[i], tpr_low[i])\n",
    "average_precision_seq_struc = average_precision_low\n",
    "roc_auc_seq_struc = roc_auc_low"
   ]
  },
  {
   "cell_type": "code",
   "execution_count": 22,
   "metadata": {},
   "outputs": [],
   "source": [
    "precision_low = l = [None] * len(RBPnames_low)\n",
    "recall_low = [None] * len(RBPnames_low)\n",
    "average_precision_low = [None] * len(RBPnames_low)\n",
    "\n",
    "fpr_low = [None] * len(RBPnames_low)\n",
    "tpr_low = [None] * len(RBPnames_low)\n",
    "roc_auc_low = [None] * len(RBPnames_low)\n",
    "pr_auc_low = [None] * len(RBPnames_low)\n",
    "\n",
    "for i in range(num_task_low):\n",
    "    precision_low[i], recall_low[i], _ = precision_recall_curve(y_true[:, i],y_pred_seq_region[:, i])\n",
    "    average_precision_low[i] = average_precision_score(y_true[:, i], y_pred_seq_region[:, i])\n",
    "    pr_auc_low [i]= auc(recall_low[i],precision_low[i])\n",
    "    fpr_low[i], tpr_low[i], _ = roc_curve(y_true[:, i], y_pred_seq_region[:, i])\n",
    "    roc_auc_low[i] = auc(fpr_low[i], tpr_low[i])\n",
    "average_precision_seq_region = average_precision_low\n",
    "roc_auc_seq_region = roc_auc_low"
   ]
  },
  {
   "cell_type": "code",
   "execution_count": 23,
   "metadata": {},
   "outputs": [],
   "source": [
    "precision_low = l = [None] * len(RBPnames_low)\n",
    "recall_low = [None] * len(RBPnames_low)\n",
    "average_precision_low = [None] * len(RBPnames_low)\n",
    "\n",
    "fpr_low = [None] * len(RBPnames_low)\n",
    "tpr_low = [None] * len(RBPnames_low)\n",
    "roc_auc_low = [None] * len(RBPnames_low)\n",
    "pr_auc_low = [None] * len(RBPnames_low)\n",
    "\n",
    "for i in range(num_task_low):\n",
    "    precision_low[i], recall_low[i], _ = precision_recall_curve(y_true[:, i],y_pred_struc_region[:, i])\n",
    "    average_precision_low[i] = average_precision_score(y_true[:, i], y_pred_struc_region[:, i])\n",
    "    pr_auc_low [i]= auc(recall_low[i],precision_low[i])\n",
    "    fpr_low[i], tpr_low[i], _ = roc_curve(y_true[:, i], y_pred_struc_region[:, i])\n",
    "    roc_auc_low[i] = auc(fpr_low[i], tpr_low[i])\n",
    "average_precision_struc_region = average_precision_low\n",
    "roc_auc_struc_region = roc_auc_low"
   ]
  },
  {
   "cell_type": "code",
   "execution_count": 24,
   "metadata": {},
   "outputs": [],
   "source": [
    "precision_low = l = [None] * len(RBPnames_low)\n",
    "recall_low = [None] * len(RBPnames_low)\n",
    "average_precision_low = [None] * len(RBPnames_low)\n",
    "\n",
    "fpr_low = [None] * len(RBPnames_low)\n",
    "tpr_low = [None] * len(RBPnames_low)\n",
    "roc_auc_low = [None] * len(RBPnames_low)\n",
    "pr_auc_low = [None] * len(RBPnames_low)\n",
    "\n",
    "for i in range(num_task_low):\n",
    "    precision_low[i], recall_low[i], _ = precision_recall_curve(y_true[:, i],y_pred_seq_struc_region[:, i])\n",
    "    average_precision_low[i] = average_precision_score(y_true[:, i], y_pred_seq_struc_region[:, i])\n",
    "    pr_auc_low [i]= auc(recall_low[i],precision_low[i])\n",
    "    fpr_low[i], tpr_low[i], _ = roc_curve(y_true[:, i], y_pred_seq_struc_region[:, i])\n",
    "    roc_auc_low[i] = auc(fpr_low[i], tpr_low[i])\n",
    "average_precision_seq_struc_region = average_precision_low\n",
    "roc_auc_seq_struc_region = roc_auc_low"
   ]
  },
  {
   "cell_type": "code",
   "execution_count": 25,
   "metadata": {},
   "outputs": [
    {
     "name": "stdout",
     "output_type": "stream",
     "text": [
      "roc_auc_seq:0.8809\n",
      "roc_auc_struc:0.6987\n",
      "roc_auc_region:0.6710\n",
      "roc_auc_seq_struc:0.8843\n",
      "roc_auc_seq_region:0.8976\n",
      "roc_auc_struc_region:0.7602\n",
      "roc_auc_seq_struc_region:0.8957\n"
     ]
    }
   ],
   "source": [
    "import numpy as np\n",
    "print(\"roc_auc_seq:{:.4f}\".format (np.mean(roc_auc_seq)))\n",
    "print(\"roc_auc_struc:{:.4f}\".format (np.mean(roc_auc_struc)))\n",
    "print(\"roc_auc_region:{:.4f}\".format (np.mean(roc_auc_region)))\n",
    "print(\"roc_auc_seq_struc:{:.4f}\".format (np.mean(roc_auc_seq_struc)))\n",
    "print(\"roc_auc_seq_region:{:.4f}\".format (np.mean(roc_auc_seq_region)))\n",
    "print(\"roc_auc_struc_region:{:.4f}\".format (np.mean(roc_auc_struc_region)))\n",
    "print(\"roc_auc_seq_struc_region:{:.4f}\".format (np.mean(roc_auc_seq_struc_region)))"
   ]
  },
  {
   "cell_type": "code",
   "execution_count": 26,
   "metadata": {},
   "outputs": [
    {
     "name": "stdout",
     "output_type": "stream",
     "text": [
      "average_precision_seq: 0.3372\n",
      "average_precision_struc: 0.1189\n",
      "average_precision_region: 0.0912\n",
      "average_precision_seq_struc: 0.3521\n",
      "average_precision_seq_region: 0.3808\n",
      "average_precision_struc_region: 0.1602\n",
      "average_precision_seq_struc_region: 0.3714\n"
     ]
    }
   ],
   "source": [
    "print(\"average_precision_seq: {:.4f}\".format (np.mean(average_precision_seq)))\n",
    "print(\"average_precision_struc: {:.4f}\".format (np.mean(average_precision_struc)))\n",
    "print(\"average_precision_region: {:.4f}\".format (np.mean(average_precision_region)))\n",
    "print(\"average_precision_seq_struc: {:.4f}\".format (np.mean(average_precision_seq_struc)))\n",
    "print(\"average_precision_seq_region: {:.4f}\".format (np.mean(average_precision_seq_region)))\n",
    "print(\"average_precision_struc_region: {:.4f}\".format (np.mean(average_precision_struc_region)))\n",
    "print(\"average_precision_seq_struc_region: {:.4f}\".format (np.mean(average_precision_seq_struc_region)))"
   ]
  },
  {
   "cell_type": "code",
   "execution_count": 27,
   "metadata": {},
   "outputs": [
    {
     "data": {
      "text/html": [
       "<div>\n",
       "<style scoped>\n",
       "    .dataframe tbody tr th:only-of-type {\n",
       "        vertical-align: middle;\n",
       "    }\n",
       "\n",
       "    .dataframe tbody tr th {\n",
       "        vertical-align: top;\n",
       "    }\n",
       "\n",
       "    .dataframe thead th {\n",
       "        text-align: right;\n",
       "    }\n",
       "</style>\n",
       "<table border=\"1\" class=\"dataframe\">\n",
       "  <thead>\n",
       "    <tr style=\"text-align: right;\">\n",
       "      <th></th>\n",
       "      <th>RBPnames</th>\n",
       "      <th>seq(AP)</th>\n",
       "      <th>struc(AP)</th>\n",
       "      <th>region(AP)</th>\n",
       "      <th>seq_struc(AP)</th>\n",
       "      <th>seq_region(AP)</th>\n",
       "      <th>struc_region(AP)</th>\n",
       "      <th>seq_struc_region(AP)</th>\n",
       "    </tr>\n",
       "  </thead>\n",
       "  <tbody>\n",
       "    <tr>\n",
       "      <th>0</th>\n",
       "      <td>MBNL1</td>\n",
       "      <td>0.945903</td>\n",
       "      <td>0.430851</td>\n",
       "      <td>0.217034</td>\n",
       "      <td>0.946347</td>\n",
       "      <td>0.947053</td>\n",
       "      <td>0.503496</td>\n",
       "      <td>0.947744</td>\n",
       "    </tr>\n",
       "    <tr>\n",
       "      <th>1</th>\n",
       "      <td>P53_NONO</td>\n",
       "      <td>0.342698</td>\n",
       "      <td>0.086424</td>\n",
       "      <td>0.069044</td>\n",
       "      <td>0.346685</td>\n",
       "      <td>0.457259</td>\n",
       "      <td>0.144998</td>\n",
       "      <td>0.453414</td>\n",
       "    </tr>\n",
       "    <tr>\n",
       "      <th>2</th>\n",
       "      <td>PUM2</td>\n",
       "      <td>0.696637</td>\n",
       "      <td>0.109651</td>\n",
       "      <td>0.125382</td>\n",
       "      <td>0.714769</td>\n",
       "      <td>0.736005</td>\n",
       "      <td>0.167421</td>\n",
       "      <td>0.754449</td>\n",
       "    </tr>\n",
       "    <tr>\n",
       "      <th>3</th>\n",
       "      <td>QKI</td>\n",
       "      <td>0.623750</td>\n",
       "      <td>0.114583</td>\n",
       "      <td>0.022108</td>\n",
       "      <td>0.697024</td>\n",
       "      <td>0.673040</td>\n",
       "      <td>0.101377</td>\n",
       "      <td>0.618247</td>\n",
       "    </tr>\n",
       "    <tr>\n",
       "      <th>4</th>\n",
       "      <td>AGO3</td>\n",
       "      <td>0.487740</td>\n",
       "      <td>0.160382</td>\n",
       "      <td>0.148527</td>\n",
       "      <td>0.521156</td>\n",
       "      <td>0.548658</td>\n",
       "      <td>0.218898</td>\n",
       "      <td>0.546099</td>\n",
       "    </tr>\n",
       "  </tbody>\n",
       "</table>\n",
       "</div>"
      ],
      "text/plain": [
       "   RBPnames   seq(AP)  struc(AP)  region(AP)  seq_struc(AP)  seq_region(AP)  \\\n",
       "0     MBNL1  0.945903   0.430851    0.217034       0.946347        0.947053   \n",
       "1  P53_NONO  0.342698   0.086424    0.069044       0.346685        0.457259   \n",
       "2      PUM2  0.696637   0.109651    0.125382       0.714769        0.736005   \n",
       "3       QKI  0.623750   0.114583    0.022108       0.697024        0.673040   \n",
       "4      AGO3  0.487740   0.160382    0.148527       0.521156        0.548658   \n",
       "\n",
       "   struc_region(AP)  seq_struc_region(AP)  \n",
       "0          0.503496              0.947744  \n",
       "1          0.144998              0.453414  \n",
       "2          0.167421              0.754449  \n",
       "3          0.101377              0.618247  \n",
       "4          0.218898              0.546099  "
      ]
     },
     "execution_count": 27,
     "metadata": {},
     "output_type": "execute_result"
    }
   ],
   "source": [
    "import pandas as pd\n",
    "df_AP = pd.DataFrame(np.zeros(num_task_low*8).reshape(num_task_low,8),\n",
    "                  columns=['RBPnames','seq(AP)', 'struc(AP)', 'region(AP)','seq_struc(AP)','seq_region(AP)','struc_region(AP)','seq_struc_region(AP)'])\n",
    "df_AP.loc[:, 'RBPnames'] = RBPnames_low\n",
    "df_AP.loc[:, 'seq(AP)'] = average_precision_seq\n",
    "df_AP.loc[:, 'struc(AP)'] = average_precision_struc\n",
    "df_AP.loc[:, 'region(AP)'] = average_precision_region\n",
    "df_AP.loc[:, 'seq_struc(AP)'] = average_precision_seq_struc\n",
    "df_AP.loc[:, 'seq_region(AP)'] = average_precision_seq_region\n",
    "df_AP.loc[:, 'struc_region(AP)'] = average_precision_struc_region\n",
    "df_AP.loc[:, 'seq_struc_region(AP)'] = average_precision_seq_struc_region\n",
    "#df_AP.to_csv('supplemental_file_3.csv', index = False)\n",
    "df_AP.head ()"
   ]
  },
  {
   "cell_type": "code",
   "execution_count": 28,
   "metadata": {},
   "outputs": [
    {
     "data": {
      "text/html": [
       "<div>\n",
       "<style scoped>\n",
       "    .dataframe tbody tr th:only-of-type {\n",
       "        vertical-align: middle;\n",
       "    }\n",
       "\n",
       "    .dataframe tbody tr th {\n",
       "        vertical-align: top;\n",
       "    }\n",
       "\n",
       "    .dataframe thead th {\n",
       "        text-align: right;\n",
       "    }\n",
       "</style>\n",
       "<table border=\"1\" class=\"dataframe\">\n",
       "  <thead>\n",
       "    <tr style=\"text-align: right;\">\n",
       "      <th></th>\n",
       "      <th>RBPnames</th>\n",
       "      <th>seq(AUROC)</th>\n",
       "      <th>struc(AUROC)</th>\n",
       "      <th>region(AUROC)</th>\n",
       "      <th>seq_struc(AUROC)</th>\n",
       "      <th>seq_region(AUROC)</th>\n",
       "      <th>struc_region(AUROC)</th>\n",
       "      <th>seq_struc_region(AUROC)</th>\n",
       "    </tr>\n",
       "  </thead>\n",
       "  <tbody>\n",
       "    <tr>\n",
       "      <th>0</th>\n",
       "      <td>MBNL1</td>\n",
       "      <td>0.984247</td>\n",
       "      <td>0.755496</td>\n",
       "      <td>0.675959</td>\n",
       "      <td>0.984587</td>\n",
       "      <td>0.985105</td>\n",
       "      <td>0.812701</td>\n",
       "      <td>0.984776</td>\n",
       "    </tr>\n",
       "    <tr>\n",
       "      <th>1</th>\n",
       "      <td>P53_NONO</td>\n",
       "      <td>0.906434</td>\n",
       "      <td>0.727010</td>\n",
       "      <td>0.732521</td>\n",
       "      <td>0.907236</td>\n",
       "      <td>0.940176</td>\n",
       "      <td>0.838031</td>\n",
       "      <td>0.936770</td>\n",
       "    </tr>\n",
       "    <tr>\n",
       "      <th>2</th>\n",
       "      <td>PUM2</td>\n",
       "      <td>0.946066</td>\n",
       "      <td>0.734775</td>\n",
       "      <td>0.764804</td>\n",
       "      <td>0.954759</td>\n",
       "      <td>0.954308</td>\n",
       "      <td>0.828042</td>\n",
       "      <td>0.964024</td>\n",
       "    </tr>\n",
       "    <tr>\n",
       "      <th>3</th>\n",
       "      <td>QKI</td>\n",
       "      <td>0.978222</td>\n",
       "      <td>0.833350</td>\n",
       "      <td>0.648203</td>\n",
       "      <td>0.985219</td>\n",
       "      <td>0.982582</td>\n",
       "      <td>0.849888</td>\n",
       "      <td>0.981679</td>\n",
       "    </tr>\n",
       "    <tr>\n",
       "      <th>4</th>\n",
       "      <td>AGO3</td>\n",
       "      <td>0.871798</td>\n",
       "      <td>0.637762</td>\n",
       "      <td>0.663689</td>\n",
       "      <td>0.881271</td>\n",
       "      <td>0.888198</td>\n",
       "      <td>0.719357</td>\n",
       "      <td>0.890562</td>\n",
       "    </tr>\n",
       "  </tbody>\n",
       "</table>\n",
       "</div>"
      ],
      "text/plain": [
       "   RBPnames  seq(AUROC)  struc(AUROC)  region(AUROC)  seq_struc(AUROC)  \\\n",
       "0     MBNL1    0.984247      0.755496       0.675959          0.984587   \n",
       "1  P53_NONO    0.906434      0.727010       0.732521          0.907236   \n",
       "2      PUM2    0.946066      0.734775       0.764804          0.954759   \n",
       "3       QKI    0.978222      0.833350       0.648203          0.985219   \n",
       "4      AGO3    0.871798      0.637762       0.663689          0.881271   \n",
       "\n",
       "   seq_region(AUROC)  struc_region(AUROC)  seq_struc_region(AUROC)  \n",
       "0           0.985105             0.812701                 0.984776  \n",
       "1           0.940176             0.838031                 0.936770  \n",
       "2           0.954308             0.828042                 0.964024  \n",
       "3           0.982582             0.849888                 0.981679  \n",
       "4           0.888198             0.719357                 0.890562  "
      ]
     },
     "execution_count": 28,
     "metadata": {},
     "output_type": "execute_result"
    }
   ],
   "source": [
    "df_AUROC = pd.DataFrame(np.zeros(num_task_low*8).reshape(num_task_low,8),\n",
    "                  columns=['RBPnames','seq(AUROC)', 'struc(AUROC)', 'region(AUROC)','seq_struc(AUROC)','seq_region(AUROC)','struc_region(AUROC)','seq_struc_region(AUROC)'])\n",
    "df_AUROC.loc[:, 'RBPnames'] = RBPnames_low\n",
    "df_AUROC.loc[:, 'seq(AUROC)'] = roc_auc_seq\n",
    "df_AUROC.loc[:, 'struc(AUROC)'] = roc_auc_struc\n",
    "df_AUROC.loc[:, 'region(AUROC)'] = roc_auc_region\n",
    "df_AUROC.loc[:, 'seq_struc(AUROC)'] = roc_auc_seq_struc\n",
    "df_AUROC.loc[:, 'seq_region(AUROC)'] = roc_auc_seq_region\n",
    "df_AUROC.loc[:, 'struc_region(AUROC)'] = roc_auc_struc_region\n",
    "df_AUROC.loc[:, 'seq_struc_region(AUROC)'] = roc_auc_seq_struc_region\n",
    "#df_AUROC.to_csv('supplemental_file_2.csv', index = False)\n",
    "df_AUROC.head ()"
   ]
  },
  {
   "cell_type": "code",
   "execution_count": null,
   "metadata": {},
   "outputs": [],
   "source": []
  }
 ],
 "metadata": {
  "kernelspec": {
   "display_name": "Python 3",
   "language": "python",
   "name": "python3"
  },
  "language_info": {
   "codemirror_mode": {
    "name": "ipython",
    "version": 3
   },
   "file_extension": ".py",
   "mimetype": "text/x-python",
   "name": "python",
   "nbconvert_exporter": "python",
   "pygments_lexer": "ipython3",
   "version": "3.7.3"
  }
 },
 "nbformat": 4,
 "nbformat_minor": 4
}
