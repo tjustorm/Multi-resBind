{
 "cells": [
  {
   "cell_type": "code",
   "execution_count": 1,
   "metadata": {},
   "outputs": [
    {
     "name": "stderr",
     "output_type": "stream",
     "text": [
      "Using TensorFlow backend.\n",
      "../Scripts/plotseqlogo.py:41: FutureWarning: arrays to stack must be passed as a \"sequence\" type such as list or tuple. Support for non-sequence iterables such as generators is deprecated as of NumPy 1.16 and will raise an error in the future.\n",
      "  min_coords = np.vstack(data.min(0) for data in polygons_data).min(0)\n",
      "../Scripts/plotseqlogo.py:42: FutureWarning: arrays to stack must be passed as a \"sequence\" type such as list or tuple. Support for non-sequence iterables such as generators is deprecated as of NumPy 1.16 and will raise an error in the future.\n",
      "  max_coords = np.vstack(data.max(0) for data in polygons_data).max(0)\n"
     ]
    }
   ],
   "source": [
    "import os\n",
    "import numpy as np\n",
    "import h5py\n",
    "import scipy.io\n",
    "np.random.seed(7) # for reproducibility\n",
    "\n",
    "import keras.backend as K\n",
    "from keras.models import Model, load_model\n",
    "\n",
    "import matplotlib.pyplot as plt\n",
    "import matplotlib\n",
    "#from concise.utils.plot import seqlogo, seqlogo_fig\n",
    "\n",
    "import sys\n",
    "sys.path.append(\"../Scripts/\")\n",
    "from IntegratedGradients import *\n",
    "from util_funcs import *\n",
    "from plotseqlogo import seqlogo, seqlogo_fig"
   ]
  },
  {
   "cell_type": "code",
   "execution_count": 2,
   "metadata": {},
   "outputs": [
    {
     "name": "stderr",
     "output_type": "stream",
     "text": [
      "/anaconda3/lib/python3.7/site-packages/IPython/extensions/rmagic.py:11: UserWarning: The rmagic extension in IPython has moved to `rpy2.ipython`, please see `rpy2` documentation.\n",
      "  warnings.warn(\"The rmagic extension in IPython has moved to \"\n"
     ]
    }
   ],
   "source": [
    "### library to use R\n",
    "%load_ext rpy2.ipython\n",
    "%load_ext rmagic"
   ]
  },
  {
   "cell_type": "code",
   "execution_count": 3,
   "metadata": {},
   "outputs": [],
   "source": [
    "def load_data_SHBIME(path_to_data):\n",
    "\n",
    "    data = h5py.File(path_to_data,'r')\n",
    "    X_test_seq = np.transpose(np.array(data['test_in_seq']),axes=(0,2,1))\n",
    "    X_test_annotation = np.transpose(np.array(data['test_in_annotation']),axes=(0,2,1))\n",
    "    X_test_region = np.transpose(np.array(data['test_in_region']),axes=(0, 2, 1))\n",
    "    y_test_RBP = np.array(data['test_out'])\n",
    "    y_test_name= np.array(data['test_name'])\n",
    "    y_train= np.array(data['train_out'])\n",
    "    data.close()\n",
    "    return X_test_seq, X_test_annotation, X_test_region, y_test_RBP, y_test_name, y_train"
   ]
  },
  {
   "cell_type": "code",
   "execution_count": 4,
   "metadata": {},
   "outputs": [
    {
     "name": "stdout",
     "output_type": "stream",
     "text": [
      "(7969, 150, 4)\n",
      "(7969, 150, 6)\n",
      "(7969, 250, 4)\n",
      "(7969, 27)\n",
      "(7969,)\n",
      "(56547, 27)\n"
     ]
    }
   ],
   "source": [
    "path_to_data = \"/Users/storm/git/Multi-resBind/Data/\"\n",
    "path_to_datalow = path_to_data + \"data_RBPslow_CapR.h5\"\n",
    "X_test_seq_low,X_test_annotation_low, X_test_region_low, y_test_RBP_low, y_test_name_low, y_train_low = load_data_SHBIME(path_to_datalow)\n",
    "print (X_test_seq_low.shape)\n",
    "print (X_test_annotation_low.shape)\n",
    "print (X_test_region_low.shape)\n",
    "print (y_test_RBP_low.shape)\n",
    "print (y_test_name_low.shape)\n",
    "print (y_train_low.shape)"
   ]
  },
  {
   "cell_type": "code",
   "execution_count": 5,
   "metadata": {},
   "outputs": [
    {
     "name": "stdout",
     "output_type": "stream",
     "text": [
      "(7969, 150, 14)\n"
     ]
    }
   ],
   "source": [
    "d = np.concatenate((X_test_seq_low, X_test_region_low[:, 50:200, :], X_test_annotation_low), axis=2)\n",
    "print (d.shape)"
   ]
  },
  {
   "cell_type": "code",
   "execution_count": 6,
   "metadata": {},
   "outputs": [],
   "source": [
    "#load models and obtain prediction and integrated_gradients\n",
    "path_to_model = \"/Users/storm/git/Multi-resBind/results/loss_functions/\"\n",
    "path_to_model_loss_0= path_to_model + \"m_resbind_loss_0_model.h5\"\n",
    "path_to_model_loss_1= path_to_model + \"m_resbind_loss_1_model.h5\"\n",
    "path_to_model_loss_2= path_to_model + \"m_resbind_loss_2_model.h5\"\n",
    "path_to_model_loss_3= path_to_model + \"m_resbind_loss_3_model.h5\"\n",
    "path_to_model_loss_4= path_to_model + \"m_resbind_loss_4_model.h5\""
   ]
  },
  {
   "cell_type": "code",
   "execution_count": 7,
   "metadata": {
    "scrolled": true
   },
   "outputs": [
    {
     "name": "stdout",
     "output_type": "stream",
     "text": [
      "WARNING:tensorflow:From /anaconda3/lib/python3.7/site-packages/tensorflow/python/ops/resource_variable_ops.py:435: colocate_with (from tensorflow.python.framework.ops) is deprecated and will be removed in a future version.\n",
      "Instructions for updating:\n",
      "Colocations handled automatically by placer.\n"
     ]
    },
    {
     "name": "stderr",
     "output_type": "stream",
     "text": [
      "2021-05-11 11:20:16,524 [WARNING] From /anaconda3/lib/python3.7/site-packages/tensorflow/python/ops/resource_variable_ops.py:435: colocate_with (from tensorflow.python.framework.ops) is deprecated and will be removed in a future version.\n",
      "Instructions for updating:\n",
      "Colocations handled automatically by placer.\n"
     ]
    },
    {
     "name": "stdout",
     "output_type": "stream",
     "text": [
      "WARNING:tensorflow:From /anaconda3/lib/python3.7/site-packages/tensorflow/python/ops/math_ops.py:3066: to_int32 (from tensorflow.python.ops.math_ops) is deprecated and will be removed in a future version.\n",
      "Instructions for updating:\n",
      "Use tf.cast instead.\n"
     ]
    },
    {
     "name": "stderr",
     "output_type": "stream",
     "text": [
      "2021-05-11 11:20:17,664 [WARNING] From /anaconda3/lib/python3.7/site-packages/tensorflow/python/ops/math_ops.py:3066: to_int32 (from tensorflow.python.ops.math_ops) is deprecated and will be removed in a future version.\n",
      "Instructions for updating:\n",
      "Use tf.cast instead.\n"
     ]
    }
   ],
   "source": [
    "model_loss_0=load_model(path_to_model_loss_0, custom_objects={'precision': precision,'recall': recall }) \n",
    "pred_loss_0=model_loss_0.predict(d)"
   ]
  },
  {
   "cell_type": "code",
   "execution_count": 8,
   "metadata": {},
   "outputs": [],
   "source": [
    "model_loss_1=load_model(path_to_model_loss_1, custom_objects={'precision': precision,'recall': recall }) \n",
    "pred_loss_1=model_loss_1.predict(d)"
   ]
  },
  {
   "cell_type": "code",
   "execution_count": 9,
   "metadata": {},
   "outputs": [],
   "source": [
    "model_loss_2=load_model(path_to_model_loss_2, custom_objects={'precision': precision,'recall': recall }, compile=False) \n",
    "pred_loss_2=model_loss_2.predict(d)"
   ]
  },
  {
   "cell_type": "code",
   "execution_count": 10,
   "metadata": {},
   "outputs": [],
   "source": [
    "model_loss_3=load_model(path_to_model_loss_3, custom_objects={'precision': precision,'recall': recall }, compile=False) \n",
    "pred_loss_3=model_loss_3.predict(d)"
   ]
  },
  {
   "cell_type": "code",
   "execution_count": 11,
   "metadata": {},
   "outputs": [],
   "source": [
    "model_loss_4=load_model(path_to_model_loss_4, custom_objects={'precision': precision,'recall': recall }, compile=False) \n",
    "pred_loss_4=model_loss_4.predict(d)"
   ]
  },
  {
   "cell_type": "code",
   "execution_count": 12,
   "metadata": {},
   "outputs": [],
   "source": [
    "#RBPnames for each model\n",
    "RBPnames_low=np.array(['MBNL1', 'P53_NONO', 'PUM2', 'QKI', 'AGO3', 'FUS', 'TAF15', 'ZFP36', 'DICER1', 'EIF3A', 'EIF3D', 'EIF3G', 'SSB', 'PAPD5', 'CPSF4', 'CPSF3', 'RTCB', 'FXR1', 'NOP58', 'NOP56', 'FBL', 'LIN28A', 'LIN28B', 'UPF1', 'G35', 'G45', 'XPO5'])"
   ]
  },
  {
   "cell_type": "code",
   "execution_count": 13,
   "metadata": {},
   "outputs": [],
   "source": [
    "#number of tasks for each model\n",
    "num_task_low=len(RBPnames_low)"
   ]
  },
  {
   "cell_type": "code",
   "execution_count": 14,
   "metadata": {},
   "outputs": [],
   "source": [
    "from sklearn.metrics import precision_recall_curve\n",
    "from sklearn.metrics import average_precision_score\n",
    "from sklearn.metrics import roc_curve, auc\n",
    "from sklearn.metrics import roc_auc_score\n",
    "import numpy as np\n",
    "from matplotlib.font_manager import FontProperties\n",
    "import matplotlib as mpl\n",
    "import matplotlib"
   ]
  },
  {
   "cell_type": "code",
   "execution_count": 15,
   "metadata": {},
   "outputs": [],
   "source": [
    "y_true=y_test_RBP_low\n",
    "type(y_true) == np.ndarray\n",
    "y_pred_loss_0=pred_loss_0\n",
    "y_pred_loss_1=pred_loss_1\n",
    "y_pred_loss_2=pred_loss_2\n",
    "y_pred_loss_3=pred_loss_3\n",
    "y_pred_loss_4=pred_loss_4"
   ]
  },
  {
   "cell_type": "code",
   "execution_count": 16,
   "metadata": {},
   "outputs": [],
   "source": [
    "precision_low = l = [None] * len(RBPnames_low)\n",
    "recall_low = [None] * len(RBPnames_low)\n",
    "average_precision_low = [None] * len(RBPnames_low)\n",
    "\n",
    "fpr_low = [None] * len(RBPnames_low)\n",
    "tpr_low = [None] * len(RBPnames_low)\n",
    "roc_auc_low = [None] * len(RBPnames_low)\n",
    "pr_auc_low = [None] * len(RBPnames_low)\n",
    "\n",
    "for i in range(num_task_low):\n",
    "    precision_low[i], recall_low[i], _ = precision_recall_curve(y_true[:, i],y_pred_loss_0[:, i])\n",
    "    average_precision_low[i] = average_precision_score(y_true[:, i], y_pred_loss_0[:, i])\n",
    "    pr_auc_low [i]= auc(recall_low[i],precision_low[i])\n",
    "    fpr_low[i], tpr_low[i], _ = roc_curve(y_true[:, i], y_pred_loss_0[:, i])\n",
    "    roc_auc_low[i] = auc(fpr_low[i], tpr_low[i])\n",
    "average_precision_loss_0 = average_precision_low\n",
    "roc_auc_loss_0 = roc_auc_low"
   ]
  },
  {
   "cell_type": "code",
   "execution_count": 17,
   "metadata": {},
   "outputs": [],
   "source": [
    "precision_low = l = [None] * len(RBPnames_low)\n",
    "recall_low = [None] * len(RBPnames_low)\n",
    "average_precision_low = [None] * len(RBPnames_low)\n",
    "\n",
    "fpr_low = [None] * len(RBPnames_low)\n",
    "tpr_low = [None] * len(RBPnames_low)\n",
    "roc_auc_low = [None] * len(RBPnames_low)\n",
    "pr_auc_low = [None] * len(RBPnames_low)\n",
    "\n",
    "for i in range(num_task_low):\n",
    "    precision_low[i], recall_low[i], _ = precision_recall_curve(y_true[:, i],y_pred_loss_1[:, i])\n",
    "    average_precision_low[i] = average_precision_score(y_true[:, i], y_pred_loss_1[:, i])\n",
    "    pr_auc_low [i]= auc(recall_low[i],precision_low[i])\n",
    "    fpr_low[i], tpr_low[i], _ = roc_curve(y_true[:, i], y_pred_loss_1[:, i])\n",
    "    roc_auc_low[i] = auc(fpr_low[i], tpr_low[i])\n",
    "average_precision_loss_1 = average_precision_low\n",
    "roc_auc_loss_1 = roc_auc_low"
   ]
  },
  {
   "cell_type": "code",
   "execution_count": 18,
   "metadata": {},
   "outputs": [],
   "source": [
    "precision_low = l = [None] * len(RBPnames_low)\n",
    "recall_low = [None] * len(RBPnames_low)\n",
    "average_precision_low = [None] * len(RBPnames_low)\n",
    "\n",
    "fpr_low = [None] * len(RBPnames_low)\n",
    "tpr_low = [None] * len(RBPnames_low)\n",
    "roc_auc_low = [None] * len(RBPnames_low)\n",
    "pr_auc_low = [None] * len(RBPnames_low)\n",
    "\n",
    "for i in range(num_task_low):\n",
    "    precision_low[i], recall_low[i], _ = precision_recall_curve(y_true[:, i],y_pred_loss_2[:, i])\n",
    "    average_precision_low[i] = average_precision_score(y_true[:, i], y_pred_loss_2[:, i])\n",
    "    pr_auc_low [i]= auc(recall_low[i],precision_low[i])\n",
    "    fpr_low[i], tpr_low[i], _ = roc_curve(y_true[:, i], y_pred_loss_2[:, i])\n",
    "    roc_auc_low[i] = auc(fpr_low[i], tpr_low[i])\n",
    "average_precision_loss_2 = average_precision_low\n",
    "roc_auc_loss_2 = roc_auc_low"
   ]
  },
  {
   "cell_type": "code",
   "execution_count": 19,
   "metadata": {},
   "outputs": [],
   "source": [
    "precision_low = l = [None] * len(RBPnames_low)\n",
    "recall_low = [None] * len(RBPnames_low)\n",
    "average_precision_low = [None] * len(RBPnames_low)\n",
    "\n",
    "fpr_low = [None] * len(RBPnames_low)\n",
    "tpr_low = [None] * len(RBPnames_low)\n",
    "roc_auc_low = [None] * len(RBPnames_low)\n",
    "pr_auc_low = [None] * len(RBPnames_low)\n",
    "\n",
    "for i in range(num_task_low):\n",
    "    precision_low[i], recall_low[i], _ = precision_recall_curve(y_true[:, i],y_pred_loss_3[:, i])\n",
    "    average_precision_low[i] = average_precision_score(y_true[:, i], y_pred_loss_3[:, i])\n",
    "    pr_auc_low [i]= auc(recall_low[i],precision_low[i])\n",
    "    fpr_low[i], tpr_low[i], _ = roc_curve(y_true[:, i], y_pred_loss_3[:, i])\n",
    "    roc_auc_low[i] = auc(fpr_low[i], tpr_low[i])\n",
    "average_precision_loss_3 = average_precision_low\n",
    "roc_auc_loss_3 = roc_auc_low"
   ]
  },
  {
   "cell_type": "code",
   "execution_count": 20,
   "metadata": {},
   "outputs": [],
   "source": [
    "precision_low = l = [None] * len(RBPnames_low)\n",
    "recall_low = [None] * len(RBPnames_low)\n",
    "average_precision_low = [None] * len(RBPnames_low)\n",
    "\n",
    "fpr_low = [None] * len(RBPnames_low)\n",
    "tpr_low = [None] * len(RBPnames_low)\n",
    "roc_auc_low = [None] * len(RBPnames_low)\n",
    "pr_auc_low = [None] * len(RBPnames_low)\n",
    "\n",
    "for i in range(num_task_low):\n",
    "    precision_low[i], recall_low[i], _ = precision_recall_curve(y_true[:, i],y_pred_loss_4[:, i])\n",
    "    average_precision_low[i] = average_precision_score(y_true[:, i], y_pred_loss_4[:, i])\n",
    "    pr_auc_low [i]= auc(recall_low[i],precision_low[i])\n",
    "    fpr_low[i], tpr_low[i], _ = roc_curve(y_true[:, i], y_pred_loss_4[:, i])\n",
    "    roc_auc_low[i] = auc(fpr_low[i], tpr_low[i])\n",
    "average_precision_loss_4 = average_precision_low\n",
    "roc_auc_loss_4 = roc_auc_low"
   ]
  },
  {
   "cell_type": "code",
   "execution_count": 21,
   "metadata": {},
   "outputs": [
    {
     "name": "stdout",
     "output_type": "stream",
     "text": [
      "roc_auc_class_aware:0.8966\n",
      "roc_auc_BCE:0.8981\n",
      "roc_auc_WBCE:0.8934\n",
      "roc_auc_focal_loss:0.8993\n",
      "roc_auc_ASL:0.8975\n"
     ]
    }
   ],
   "source": [
    "import numpy as np\n",
    "print(\"roc_auc_class_aware:{:.4f}\".format (np.mean(roc_auc_loss_0)))\n",
    "print(\"roc_auc_BCE:{:.4f}\".format (np.mean(roc_auc_loss_1)))\n",
    "print(\"roc_auc_WBCE:{:.4f}\".format (np.mean(roc_auc_loss_2)))\n",
    "print(\"roc_auc_focal_loss:{:.4f}\".format (np.mean(roc_auc_loss_3)))\n",
    "print(\"roc_auc_ASL:{:.4f}\".format (np.mean(roc_auc_loss_4)))"
   ]
  },
  {
   "cell_type": "code",
   "execution_count": 22,
   "metadata": {},
   "outputs": [
    {
     "name": "stdout",
     "output_type": "stream",
     "text": [
      "average_precision_class_aware: 0.3720\n",
      "average_precision_BCE: 0.3763\n",
      "average_precision_WBCE: 0.3523\n",
      "average_precision_focal_loss: 0.3745\n",
      "average_precision_ASL: 0.3765\n"
     ]
    }
   ],
   "source": [
    "print(\"average_precision_class_aware: {:.4f}\".format (np.mean(average_precision_loss_0)))\n",
    "print(\"average_precision_BCE: {:.4f}\".format (np.mean(average_precision_loss_1)))\n",
    "print(\"average_precision_WBCE: {:.4f}\".format (np.mean(average_precision_loss_2)))\n",
    "print(\"average_precision_focal_loss: {:.4f}\".format (np.mean(average_precision_loss_3)))\n",
    "print(\"average_precision_ASL: {:.4f}\".format (np.mean(average_precision_loss_4)))"
   ]
  },
  {
   "cell_type": "code",
   "execution_count": 23,
   "metadata": {},
   "outputs": [
    {
     "data": {
      "text/html": [
       "<div>\n",
       "<style scoped>\n",
       "    .dataframe tbody tr th:only-of-type {\n",
       "        vertical-align: middle;\n",
       "    }\n",
       "\n",
       "    .dataframe tbody tr th {\n",
       "        vertical-align: top;\n",
       "    }\n",
       "\n",
       "    .dataframe thead th {\n",
       "        text-align: right;\n",
       "    }\n",
       "</style>\n",
       "<table border=\"1\" class=\"dataframe\">\n",
       "  <thead>\n",
       "    <tr style=\"text-align: right;\">\n",
       "      <th></th>\n",
       "      <th>RBPnames</th>\n",
       "      <th>class_aware(AP)</th>\n",
       "      <th>BCE(AP)</th>\n",
       "      <th>WBCE(AP)</th>\n",
       "      <th>focal_loss(AP)</th>\n",
       "      <th>ASL(AP)</th>\n",
       "    </tr>\n",
       "  </thead>\n",
       "  <tbody>\n",
       "    <tr>\n",
       "      <th>0</th>\n",
       "      <td>MBNL1</td>\n",
       "      <td>0.943411</td>\n",
       "      <td>0.948576</td>\n",
       "      <td>0.944890</td>\n",
       "      <td>0.948926</td>\n",
       "      <td>0.950086</td>\n",
       "    </tr>\n",
       "    <tr>\n",
       "      <th>1</th>\n",
       "      <td>P53_NONO</td>\n",
       "      <td>0.467233</td>\n",
       "      <td>0.435732</td>\n",
       "      <td>0.450310</td>\n",
       "      <td>0.443206</td>\n",
       "      <td>0.434452</td>\n",
       "    </tr>\n",
       "    <tr>\n",
       "      <th>2</th>\n",
       "      <td>PUM2</td>\n",
       "      <td>0.749511</td>\n",
       "      <td>0.760336</td>\n",
       "      <td>0.710780</td>\n",
       "      <td>0.740404</td>\n",
       "      <td>0.729038</td>\n",
       "    </tr>\n",
       "    <tr>\n",
       "      <th>3</th>\n",
       "      <td>QKI</td>\n",
       "      <td>0.639772</td>\n",
       "      <td>0.615919</td>\n",
       "      <td>0.455915</td>\n",
       "      <td>0.577508</td>\n",
       "      <td>0.605029</td>\n",
       "    </tr>\n",
       "    <tr>\n",
       "      <th>4</th>\n",
       "      <td>AGO3</td>\n",
       "      <td>0.546083</td>\n",
       "      <td>0.573884</td>\n",
       "      <td>0.509247</td>\n",
       "      <td>0.562891</td>\n",
       "      <td>0.561148</td>\n",
       "    </tr>\n",
       "  </tbody>\n",
       "</table>\n",
       "</div>"
      ],
      "text/plain": [
       "   RBPnames  class_aware(AP)   BCE(AP)  WBCE(AP)  focal_loss(AP)   ASL(AP)\n",
       "0     MBNL1         0.943411  0.948576  0.944890        0.948926  0.950086\n",
       "1  P53_NONO         0.467233  0.435732  0.450310        0.443206  0.434452\n",
       "2      PUM2         0.749511  0.760336  0.710780        0.740404  0.729038\n",
       "3       QKI         0.639772  0.615919  0.455915        0.577508  0.605029\n",
       "4      AGO3         0.546083  0.573884  0.509247        0.562891  0.561148"
      ]
     },
     "execution_count": 23,
     "metadata": {},
     "output_type": "execute_result"
    }
   ],
   "source": [
    "import pandas as pd\n",
    "df_AP = pd.DataFrame(np.zeros(num_task_low*6).reshape(num_task_low,6),\n",
    "                  columns=['RBPnames','class_aware(AP)','BCE(AP)', 'WBCE(AP)', 'focal_loss(AP)','ASL(AP)'])\n",
    "df_AP.loc[:, 'RBPnames'] = RBPnames_low\n",
    "df_AP.loc[:, 'class_aware(AP)'] = average_precision_loss_0\n",
    "df_AP.loc[:, 'BCE(AP)'] = average_precision_loss_1\n",
    "df_AP.loc[:, 'WBCE(AP)'] = average_precision_loss_2\n",
    "df_AP.loc[:, 'focal_loss(AP)'] = average_precision_loss_3\n",
    "df_AP.loc[:, 'ASL(AP)'] = average_precision_loss_4\n",
    "#df_AP.to_csv('supplemental_file_7.csv', index = False)\n",
    "df_AP.head ()"
   ]
  },
  {
   "cell_type": "code",
   "execution_count": 24,
   "metadata": {},
   "outputs": [
    {
     "data": {
      "text/html": [
       "<div>\n",
       "<style scoped>\n",
       "    .dataframe tbody tr th:only-of-type {\n",
       "        vertical-align: middle;\n",
       "    }\n",
       "\n",
       "    .dataframe tbody tr th {\n",
       "        vertical-align: top;\n",
       "    }\n",
       "\n",
       "    .dataframe thead th {\n",
       "        text-align: right;\n",
       "    }\n",
       "</style>\n",
       "<table border=\"1\" class=\"dataframe\">\n",
       "  <thead>\n",
       "    <tr style=\"text-align: right;\">\n",
       "      <th></th>\n",
       "      <th>RBPnames</th>\n",
       "      <th>class_aware(AUROC)</th>\n",
       "      <th>BCE(AUROC)</th>\n",
       "      <th>WBCE(AUROC)</th>\n",
       "      <th>focal_loss(AUROC)</th>\n",
       "      <th>ASL(AUROC)</th>\n",
       "    </tr>\n",
       "  </thead>\n",
       "  <tbody>\n",
       "    <tr>\n",
       "      <th>0</th>\n",
       "      <td>MBNL1</td>\n",
       "      <td>0.984343</td>\n",
       "      <td>0.984776</td>\n",
       "      <td>0.983855</td>\n",
       "      <td>0.985634</td>\n",
       "      <td>0.986008</td>\n",
       "    </tr>\n",
       "    <tr>\n",
       "      <th>1</th>\n",
       "      <td>P53_NONO</td>\n",
       "      <td>0.939246</td>\n",
       "      <td>0.935732</td>\n",
       "      <td>0.943078</td>\n",
       "      <td>0.940454</td>\n",
       "      <td>0.936160</td>\n",
       "    </tr>\n",
       "    <tr>\n",
       "      <th>2</th>\n",
       "      <td>PUM2</td>\n",
       "      <td>0.964620</td>\n",
       "      <td>0.966910</td>\n",
       "      <td>0.956724</td>\n",
       "      <td>0.963666</td>\n",
       "      <td>0.963963</td>\n",
       "    </tr>\n",
       "    <tr>\n",
       "      <th>3</th>\n",
       "      <td>QKI</td>\n",
       "      <td>0.980422</td>\n",
       "      <td>0.985567</td>\n",
       "      <td>0.969175</td>\n",
       "      <td>0.983773</td>\n",
       "      <td>0.982006</td>\n",
       "    </tr>\n",
       "    <tr>\n",
       "      <th>4</th>\n",
       "      <td>AGO3</td>\n",
       "      <td>0.892207</td>\n",
       "      <td>0.898567</td>\n",
       "      <td>0.884084</td>\n",
       "      <td>0.897848</td>\n",
       "      <td>0.896870</td>\n",
       "    </tr>\n",
       "  </tbody>\n",
       "</table>\n",
       "</div>"
      ],
      "text/plain": [
       "   RBPnames  class_aware(AUROC)  BCE(AUROC)  WBCE(AUROC)  focal_loss(AUROC)  \\\n",
       "0     MBNL1            0.984343    0.984776     0.983855           0.985634   \n",
       "1  P53_NONO            0.939246    0.935732     0.943078           0.940454   \n",
       "2      PUM2            0.964620    0.966910     0.956724           0.963666   \n",
       "3       QKI            0.980422    0.985567     0.969175           0.983773   \n",
       "4      AGO3            0.892207    0.898567     0.884084           0.897848   \n",
       "\n",
       "   ASL(AUROC)  \n",
       "0    0.986008  \n",
       "1    0.936160  \n",
       "2    0.963963  \n",
       "3    0.982006  \n",
       "4    0.896870  "
      ]
     },
     "execution_count": 24,
     "metadata": {},
     "output_type": "execute_result"
    }
   ],
   "source": [
    "df_AUROC = pd.DataFrame(np.zeros(num_task_low*6).reshape(num_task_low,6),\n",
    "                  columns=['RBPnames','class_aware(AUROC)', 'BCE(AUROC)', 'WBCE(AUROC)','focal_loss(AUROC)','ASL(AUROC)'])\n",
    "df_AUROC.loc[:, 'RBPnames'] = RBPnames_low\n",
    "df_AUROC.loc[:, 'class_aware(AUROC)'] = roc_auc_loss_0\n",
    "df_AUROC.loc[:, 'BCE(AUROC)'] = roc_auc_loss_1\n",
    "df_AUROC.loc[:, 'WBCE(AUROC)'] = roc_auc_loss_2\n",
    "df_AUROC.loc[:, 'focal_loss(AUROC)'] = roc_auc_loss_3\n",
    "df_AUROC.loc[:, 'ASL(AUROC)'] = roc_auc_loss_4\n",
    "#df_AUROC.to_csv('supplemental_file_6.csv', index = False)\n",
    "df_AUROC.head ()"
   ]
  },
  {
   "cell_type": "code",
   "execution_count": null,
   "metadata": {},
   "outputs": [],
   "source": []
  }
 ],
 "metadata": {
  "kernelspec": {
   "display_name": "Python 3",
   "language": "python",
   "name": "python3"
  },
  "language_info": {
   "codemirror_mode": {
    "name": "ipython",
    "version": 3
   },
   "file_extension": ".py",
   "mimetype": "text/x-python",
   "name": "python",
   "nbconvert_exporter": "python",
   "pygments_lexer": "ipython3",
   "version": "3.7.3"
  }
 },
 "nbformat": 4,
 "nbformat_minor": 4
}
