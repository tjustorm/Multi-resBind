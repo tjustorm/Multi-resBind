{
 "cells": [
  {
   "cell_type": "code",
   "execution_count": 1,
   "metadata": {},
   "outputs": [
    {
     "name": "stderr",
     "output_type": "stream",
     "text": [
      "Using TensorFlow backend.\n",
      "./Scripts/plotseqlogo.py:41: FutureWarning: arrays to stack must be passed as a \"sequence\" type such as list or tuple. Support for non-sequence iterables such as generators is deprecated as of NumPy 1.16 and will raise an error in the future.\n",
      "  min_coords = np.vstack(data.min(0) for data in polygons_data).min(0)\n",
      "./Scripts/plotseqlogo.py:42: FutureWarning: arrays to stack must be passed as a \"sequence\" type such as list or tuple. Support for non-sequence iterables such as generators is deprecated as of NumPy 1.16 and will raise an error in the future.\n",
      "  max_coords = np.vstack(data.max(0) for data in polygons_data).max(0)\n"
     ]
    }
   ],
   "source": [
    "import os\n",
    "import numpy as np\n",
    "import h5py\n",
    "import scipy.io\n",
    "np.random.seed(7) # for reproducibility\n",
    "\n",
    "import keras.backend as K\n",
    "from keras.models import Model, load_model\n",
    "\n",
    "import matplotlib.pyplot as plt\n",
    "import matplotlib\n",
    "#from concise.utils.plot import seqlogo, seqlogo_fig\n",
    "\n",
    "import sys\n",
    "sys.path.append(\"./Scripts/\")\n",
    "from IntegratedGradients import *\n",
    "from util_funcs import *\n",
    "from plotseqlogo import seqlogo, seqlogo_fig"
   ]
  },
  {
   "cell_type": "code",
   "execution_count": 2,
   "metadata": {},
   "outputs": [
    {
     "name": "stderr",
     "output_type": "stream",
     "text": [
      "/anaconda3/lib/python3.7/site-packages/IPython/extensions/rmagic.py:11: UserWarning: The rmagic extension in IPython has moved to `rpy2.ipython`, please see `rpy2` documentation.\n",
      "  warnings.warn(\"The rmagic extension in IPython has moved to \"\n"
     ]
    }
   ],
   "source": [
    "### library to use R\n",
    "%load_ext rpy2.ipython\n",
    "%load_ext rmagic"
   ]
  },
  {
   "cell_type": "code",
   "execution_count": null,
   "metadata": {},
   "outputs": [],
   "source": [
    "def load_data_PU(path_to_data):\n",
    "\n",
    "    data = h5py.File(path_to_data,'r')\n",
    "    X_test_seq = np.transpose(np.array(data['test_in_seq']),axes=(0,2,1))\n",
    "    X_test_annotation = np.transpose(np.array(data['test_in_annotation']),axes=(0,2,1))\n",
    "    X_test_region = np.transpose(np.array(data['test_in_region']),axes=(0, 2, 1))\n",
    "    y_test_RBP = np.array(data['test_out'])\n",
    "    y_test_name= np.array(data['test_name'])\n",
    "    y_train= np.array(data['train_out'])\n",
    "    data.close()\n",
    "\n",
    "    return X_test_seq, X_test_annotation, X_test_region, y_test_RBP, y_test_name, y_train"
   ]
  },
  {
   "cell_type": "code",
   "execution_count": 3,
   "metadata": {},
   "outputs": [
    {
     "name": "stdout",
     "output_type": "stream",
     "text": [
      "(7969, 150, 4)\n",
      "(7969, 150, 2)\n",
      "(7969, 250, 4)\n",
      "(7969, 27)\n",
      "(7969,)\n",
      "(56547, 27)\n"
     ]
    }
   ],
   "source": [
    "# add the absolute path of data directory to the path_to_data\n",
    "path_to_data = \"Multi-resBind/Data/\"\n",
    "path_to_datalow = path_to_data + \"data_RBPslow_RNAplfold.h5\"\n",
    "X_test_seq_low,X_test_annotation_low, X_test_region_low, y_test_RBP_low, y_test_name_low, y_train_low = load_data_PU(path_to_datalow)\n",
    "print (X_test_seq_low.shape)\n",
    "print (X_test_annotation_low.shape)\n",
    "print (X_test_region_low.shape)\n",
    "print (y_test_RBP_low.shape)\n",
    "print (y_test_name_low.shape)\n",
    "print (y_train_low.shape)"
   ]
  },
  {
   "cell_type": "code",
   "execution_count": 13,
   "metadata": {},
   "outputs": [
    {
     "name": "stdout",
     "output_type": "stream",
     "text": [
      "(7969, 150, 6)\n",
      "(7969, 150, 8)\n",
      "(7969, 150, 6)\n",
      "(7969, 150, 10)\n"
     ]
    }
   ],
   "source": [
    "a = np.concatenate((X_test_seq_low, X_test_annotation_low), axis=2)\n",
    "print (a.shape)\n",
    "b = np.concatenate((X_test_seq_low, X_test_region_low[:,50:200,]), axis=2)\n",
    "print (b.shape)\n",
    "c = np.concatenate((X_test_region_low[:,50:200,], X_test_annotation_low), axis=2)\n",
    "print (c.shape)\n",
    "d = np.concatenate((X_test_seq_low, X_test_annotation_low, X_test_region_low[:,50:200,]), axis=2)\n",
    "print (d.shape)"
   ]
  },
  {
   "cell_type": "code",
   "execution_count": 14,
   "metadata": {},
   "outputs": [],
   "source": [
    "#load models and obtain prediction and integrated_gradients\n",
    "# add the absolute path of results directory to the path_to_model\n",
    "path_to_model = \"Multi-resBind/results/input_combination_RNAplfold/\"\n",
    "path_to_model_seq= path_to_model + \"m_resbind_input_PU_1_model.h5\"\n",
    "path_to_model_struc= path_to_model + \"m_resbind_input_PU_2_model.h5\"\n",
    "path_to_model_region= path_to_model + \"m_resbind_input_PU_3_model.h5\"\n",
    "path_to_model_seq_struc= path_to_model + \"m_resbind_input_PU_4_model.h5\"\n",
    "path_to_model_seq_region= path_to_model + \"m_resbind_input_PU_5_model.h5\"\n",
    "path_to_model_struc_region= path_to_model + \"m_resbind_input_PU_6_model.h5\"\n",
    "path_to_model_seq_struc_region = path_to_model + \"m_resbind_input_PU_7_model.h5\""
   ]
  },
  {
   "cell_type": "code",
   "execution_count": 8,
   "metadata": {
    "scrolled": true
   },
   "outputs": [],
   "source": [
    "model_seq=load_model(path_to_model_seq, custom_objects={'precision': precision,'recall': recall }) \n",
    "pred_seq=model_seq.predict(X_test_seq_low)"
   ]
  },
  {
   "cell_type": "code",
   "execution_count": 9,
   "metadata": {},
   "outputs": [],
   "source": [
    "model_struc=load_model(path_to_model_struc, custom_objects={'precision': precision,'recall': recall }) \n",
    "pred_struc=model_struc.predict(X_test_annotation_low)"
   ]
  },
  {
   "cell_type": "code",
   "execution_count": 10,
   "metadata": {},
   "outputs": [],
   "source": [
    "model_region=load_model(path_to_model_region, custom_objects={'precision': precision,'recall': recall }) \n",
    "pred_region=model_region.predict(X_test_region_low[:, 50:200, :])"
   ]
  },
  {
   "cell_type": "code",
   "execution_count": 15,
   "metadata": {},
   "outputs": [],
   "source": [
    "model_seq_struc=load_model(path_to_model_seq_struc, custom_objects={'precision': precision,'recall': recall }) \n",
    "pred_seq_struc=model_seq_struc.predict(a)"
   ]
  },
  {
   "cell_type": "code",
   "execution_count": 16,
   "metadata": {},
   "outputs": [],
   "source": [
    "model_seq_region=load_model(path_to_model_seq_region, custom_objects={'precision': precision,'recall': recall }) \n",
    "pred_seq_region=model_seq_region.predict(b)"
   ]
  },
  {
   "cell_type": "code",
   "execution_count": 17,
   "metadata": {},
   "outputs": [],
   "source": [
    "model_struc_region=load_model(path_to_model_struc_region, custom_objects={'precision': precision,'recall': recall }) \n",
    "pred_struc_region=model_struc_region.predict(c)"
   ]
  },
  {
   "cell_type": "code",
   "execution_count": 18,
   "metadata": {},
   "outputs": [],
   "source": [
    "model_seq_struc_region=load_model(path_to_model_seq_struc_region, custom_objects={'precision': precision,'recall': recall }) \n",
    "pred_seq_struc_region=model_seq_struc_region.predict(d)"
   ]
  },
  {
   "cell_type": "code",
   "execution_count": 19,
   "metadata": {},
   "outputs": [],
   "source": [
    "#RBPnames for each model\n",
    "RBPnames_low=np.array(['MBNL1', 'P53_NONO', 'PUM2', 'QKI', 'AGO3', 'FUS', 'TAF15', 'ZFP36', 'DICER1', 'EIF3A', 'EIF3D', 'EIF3G', 'SSB', 'PAPD5', 'CPSF4', 'CPSF3', 'RTCB', 'FXR1', 'NOP58', 'NOP56', 'FBL', 'LIN28A', 'LIN28B', 'UPF1', 'G35', 'G45', 'XPO5'])"
   ]
  },
  {
   "cell_type": "code",
   "execution_count": 20,
   "metadata": {},
   "outputs": [],
   "source": [
    "#number of tasks for each model\n",
    "num_task_low=len(RBPnames_low)"
   ]
  },
  {
   "cell_type": "code",
   "execution_count": 21,
   "metadata": {},
   "outputs": [],
   "source": [
    "from sklearn.metrics import precision_recall_curve\n",
    "from sklearn.metrics import average_precision_score\n",
    "from sklearn.metrics import roc_curve, auc\n",
    "from sklearn.metrics import roc_auc_score\n",
    "import numpy as np\n",
    "from matplotlib.font_manager import FontProperties\n",
    "import matplotlib as mpl\n",
    "import matplotlib"
   ]
  },
  {
   "cell_type": "code",
   "execution_count": 22,
   "metadata": {},
   "outputs": [],
   "source": [
    "y_true=y_test_RBP_low\n",
    "type(y_true) == np.ndarray\n",
    "y_pred_seq=pred_seq\n",
    "y_pred_struc=pred_struc\n",
    "y_pred_region=pred_region\n",
    "y_pred_seq_struc=pred_seq_struc\n",
    "y_pred_seq_region=pred_seq_region\n",
    "y_pred_struc_region=pred_struc_region\n",
    "y_pred_seq_struc_region=pred_seq_struc_region"
   ]
  },
  {
   "cell_type": "code",
   "execution_count": 23,
   "metadata": {},
   "outputs": [],
   "source": [
    "precision_low = l = [None] * len(RBPnames_low)\n",
    "recall_low = [None] * len(RBPnames_low)\n",
    "average_precision_low = [None] * len(RBPnames_low)\n",
    "\n",
    "fpr_low = [None] * len(RBPnames_low)\n",
    "tpr_low = [None] * len(RBPnames_low)\n",
    "roc_auc_low = [None] * len(RBPnames_low)\n",
    "pr_auc_low = [None] * len(RBPnames_low)\n",
    "\n",
    "for i in range(num_task_low):\n",
    "    precision_low[i], recall_low[i], _ = precision_recall_curve(y_true[:, i],y_pred_seq[:, i])\n",
    "    average_precision_low[i] = average_precision_score(y_true[:, i], y_pred_seq[:, i])\n",
    "    pr_auc_low [i]= auc(recall_low[i],precision_low[i])\n",
    "    fpr_low[i], tpr_low[i], _ = roc_curve(y_true[:, i], y_pred_seq[:, i])\n",
    "    roc_auc_low[i] = auc(fpr_low[i], tpr_low[i])\n",
    "average_precision_seq = average_precision_low\n",
    "roc_auc_seq = roc_auc_low"
   ]
  },
  {
   "cell_type": "code",
   "execution_count": 24,
   "metadata": {},
   "outputs": [],
   "source": [
    "precision_low = l = [None] * len(RBPnames_low)\n",
    "recall_low = [None] * len(RBPnames_low)\n",
    "average_precision_low = [None] * len(RBPnames_low)\n",
    "\n",
    "fpr_low = [None] * len(RBPnames_low)\n",
    "tpr_low = [None] * len(RBPnames_low)\n",
    "roc_auc_low = [None] * len(RBPnames_low)\n",
    "pr_auc_low = [None] * len(RBPnames_low)\n",
    "\n",
    "for i in range(num_task_low):\n",
    "    precision_low[i], recall_low[i], _ = precision_recall_curve(y_true[:, i],y_pred_struc[:, i])\n",
    "    average_precision_low[i] = average_precision_score(y_true[:, i], y_pred_struc[:, i])\n",
    "    pr_auc_low [i]= auc(recall_low[i],precision_low[i])\n",
    "    fpr_low[i], tpr_low[i], _ = roc_curve(y_true[:, i], y_pred_struc[:, i])\n",
    "    roc_auc_low[i] = auc(fpr_low[i], tpr_low[i])\n",
    "average_precision_struc = average_precision_low\n",
    "roc_auc_struc = roc_auc_low"
   ]
  },
  {
   "cell_type": "code",
   "execution_count": 25,
   "metadata": {},
   "outputs": [],
   "source": [
    "precision_low = l = [None] * len(RBPnames_low)\n",
    "recall_low = [None] * len(RBPnames_low)\n",
    "average_precision_low = [None] * len(RBPnames_low)\n",
    "\n",
    "fpr_low = [None] * len(RBPnames_low)\n",
    "tpr_low = [None] * len(RBPnames_low)\n",
    "roc_auc_low = [None] * len(RBPnames_low)\n",
    "pr_auc_low = [None] * len(RBPnames_low)\n",
    "\n",
    "for i in range(num_task_low):\n",
    "    precision_low[i], recall_low[i], _ = precision_recall_curve(y_true[:, i],y_pred_region[:, i])\n",
    "    average_precision_low[i] = average_precision_score(y_true[:, i], y_pred_region[:, i])\n",
    "    pr_auc_low [i]= auc(recall_low[i],precision_low[i])\n",
    "    fpr_low[i], tpr_low[i], _ = roc_curve(y_true[:, i], y_pred_region[:, i])\n",
    "    roc_auc_low[i] = auc(fpr_low[i], tpr_low[i])\n",
    "average_precision_region = average_precision_low\n",
    "roc_auc_region = roc_auc_low"
   ]
  },
  {
   "cell_type": "code",
   "execution_count": 26,
   "metadata": {},
   "outputs": [],
   "source": [
    "precision_low = l = [None] * len(RBPnames_low)\n",
    "recall_low = [None] * len(RBPnames_low)\n",
    "average_precision_low = [None] * len(RBPnames_low)\n",
    "\n",
    "fpr_low = [None] * len(RBPnames_low)\n",
    "tpr_low = [None] * len(RBPnames_low)\n",
    "roc_auc_low = [None] * len(RBPnames_low)\n",
    "pr_auc_low = [None] * len(RBPnames_low)\n",
    "\n",
    "for i in range(num_task_low):\n",
    "    precision_low[i], recall_low[i], _ = precision_recall_curve(y_true[:, i],y_pred_seq_struc[:, i])\n",
    "    average_precision_low[i] = average_precision_score(y_true[:, i], y_pred_seq_struc[:, i])\n",
    "    pr_auc_low [i]= auc(recall_low[i],precision_low[i])\n",
    "    fpr_low[i], tpr_low[i], _ = roc_curve(y_true[:, i], y_pred_seq_struc[:, i])\n",
    "    roc_auc_low[i] = auc(fpr_low[i], tpr_low[i])\n",
    "average_precision_seq_struc = average_precision_low\n",
    "roc_auc_seq_struc = roc_auc_low"
   ]
  },
  {
   "cell_type": "code",
   "execution_count": 27,
   "metadata": {},
   "outputs": [],
   "source": [
    "precision_low = l = [None] * len(RBPnames_low)\n",
    "recall_low = [None] * len(RBPnames_low)\n",
    "average_precision_low = [None] * len(RBPnames_low)\n",
    "\n",
    "fpr_low = [None] * len(RBPnames_low)\n",
    "tpr_low = [None] * len(RBPnames_low)\n",
    "roc_auc_low = [None] * len(RBPnames_low)\n",
    "pr_auc_low = [None] * len(RBPnames_low)\n",
    "\n",
    "for i in range(num_task_low):\n",
    "    precision_low[i], recall_low[i], _ = precision_recall_curve(y_true[:, i],y_pred_seq_region[:, i])\n",
    "    average_precision_low[i] = average_precision_score(y_true[:, i], y_pred_seq_region[:, i])\n",
    "    pr_auc_low [i]= auc(recall_low[i],precision_low[i])\n",
    "    fpr_low[i], tpr_low[i], _ = roc_curve(y_true[:, i], y_pred_seq_region[:, i])\n",
    "    roc_auc_low[i] = auc(fpr_low[i], tpr_low[i])\n",
    "average_precision_seq_region = average_precision_low\n",
    "roc_auc_seq_region = roc_auc_low"
   ]
  },
  {
   "cell_type": "code",
   "execution_count": 28,
   "metadata": {},
   "outputs": [],
   "source": [
    "precision_low = l = [None] * len(RBPnames_low)\n",
    "recall_low = [None] * len(RBPnames_low)\n",
    "average_precision_low = [None] * len(RBPnames_low)\n",
    "\n",
    "fpr_low = [None] * len(RBPnames_low)\n",
    "tpr_low = [None] * len(RBPnames_low)\n",
    "roc_auc_low = [None] * len(RBPnames_low)\n",
    "pr_auc_low = [None] * len(RBPnames_low)\n",
    "\n",
    "for i in range(num_task_low):\n",
    "    precision_low[i], recall_low[i], _ = precision_recall_curve(y_true[:, i],y_pred_struc_region[:, i])\n",
    "    average_precision_low[i] = average_precision_score(y_true[:, i], y_pred_struc_region[:, i])\n",
    "    pr_auc_low [i]= auc(recall_low[i],precision_low[i])\n",
    "    fpr_low[i], tpr_low[i], _ = roc_curve(y_true[:, i], y_pred_struc_region[:, i])\n",
    "    roc_auc_low[i] = auc(fpr_low[i], tpr_low[i])\n",
    "average_precision_struc_region = average_precision_low\n",
    "roc_auc_struc_region = roc_auc_low"
   ]
  },
  {
   "cell_type": "code",
   "execution_count": 29,
   "metadata": {},
   "outputs": [],
   "source": [
    "precision_low = l = [None] * len(RBPnames_low)\n",
    "recall_low = [None] * len(RBPnames_low)\n",
    "average_precision_low = [None] * len(RBPnames_low)\n",
    "\n",
    "fpr_low = [None] * len(RBPnames_low)\n",
    "tpr_low = [None] * len(RBPnames_low)\n",
    "roc_auc_low = [None] * len(RBPnames_low)\n",
    "pr_auc_low = [None] * len(RBPnames_low)\n",
    "\n",
    "for i in range(num_task_low):\n",
    "    precision_low[i], recall_low[i], _ = precision_recall_curve(y_true[:, i],y_pred_seq_struc_region[:, i])\n",
    "    average_precision_low[i] = average_precision_score(y_true[:, i], y_pred_seq_struc_region[:, i])\n",
    "    pr_auc_low [i]= auc(recall_low[i],precision_low[i])\n",
    "    fpr_low[i], tpr_low[i], _ = roc_curve(y_true[:, i], y_pred_seq_struc_region[:, i])\n",
    "    roc_auc_low[i] = auc(fpr_low[i], tpr_low[i])\n",
    "average_precision_seq_struc_region = average_precision_low\n",
    "roc_auc_seq_struc_region = roc_auc_low"
   ]
  },
  {
   "cell_type": "code",
   "execution_count": 30,
   "metadata": {},
   "outputs": [
    {
     "name": "stdout",
     "output_type": "stream",
     "text": [
      "roc_auc_seq:0.8809\n",
      "roc_auc_struc:0.6987\n",
      "roc_auc_region:0.6710\n",
      "roc_auc_seq_struc:0.8843\n",
      "roc_auc_seq_region:0.8976\n",
      "roc_auc_struc_region:0.7602\n",
      "roc_auc_seq_struc_region:0.7904\n"
     ]
    }
   ],
   "source": [
    "import numpy as np\n",
    "print(\"roc_auc_seq:{:.4f}\".format (np.mean(roc_auc_seq)))\n",
    "print(\"roc_auc_struc:{:.4f}\".format (np.mean(roc_auc_struc)))\n",
    "print(\"roc_auc_region:{:.4f}\".format (np.mean(roc_auc_region)))\n",
    "print(\"roc_auc_seq_struc:{:.4f}\".format (np.mean(roc_auc_seq_struc)))\n",
    "print(\"roc_auc_seq_region:{:.4f}\".format (np.mean(roc_auc_seq_region)))\n",
    "print(\"roc_auc_struc_region:{:.4f}\".format (np.mean(roc_auc_struc_region)))\n",
    "print(\"roc_auc_seq_struc_region:{:.4f}\".format (np.mean(roc_auc_seq_struc_region)))"
   ]
  },
  {
   "cell_type": "code",
   "execution_count": 31,
   "metadata": {},
   "outputs": [
    {
     "name": "stdout",
     "output_type": "stream",
     "text": [
      "average_precision_seq: 0.3372\n",
      "average_precision_struc: 0.1189\n",
      "average_precision_region: 0.0912\n",
      "average_precision_seq_struc: 0.3521\n",
      "average_precision_seq_region: 0.3808\n",
      "average_precision_struc_region: 0.1602\n",
      "average_precision_seq_struc_region: 0.2406\n"
     ]
    }
   ],
   "source": [
    "print(\"average_precision_seq: {:.4f}\".format (np.mean(average_precision_seq)))\n",
    "print(\"average_precision_struc: {:.4f}\".format (np.mean(average_precision_struc)))\n",
    "print(\"average_precision_region: {:.4f}\".format (np.mean(average_precision_region)))\n",
    "print(\"average_precision_seq_struc: {:.4f}\".format (np.mean(average_precision_seq_struc)))\n",
    "print(\"average_precision_seq_region: {:.4f}\".format (np.mean(average_precision_seq_region)))\n",
    "print(\"average_precision_struc_region: {:.4f}\".format (np.mean(average_precision_struc_region)))\n",
    "print(\"average_precision_seq_struc_region: {:.4f}\".format (np.mean(average_precision_seq_struc_region)))"
   ]
  }
 ],
 "metadata": {
  "kernelspec": {
   "display_name": "Python 3",
   "language": "python",
   "name": "python3"
  },
  "language_info": {
   "codemirror_mode": {
    "name": "ipython",
    "version": 3
   },
   "file_extension": ".py",
   "mimetype": "text/x-python",
   "name": "python",
   "nbconvert_exporter": "python",
   "pygments_lexer": "ipython3",
   "version": "3.7.3"
  }
 },
 "nbformat": 4,
 "nbformat_minor": 4
}
