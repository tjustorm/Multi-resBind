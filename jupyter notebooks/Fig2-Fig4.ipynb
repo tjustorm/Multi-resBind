{
 "cells": [
  {
   "cell_type": "code",
   "execution_count": 1,
   "metadata": {},
   "outputs": [
    {
     "name": "stderr",
     "output_type": "stream",
     "text": [
      "Using TensorFlow backend.\n",
      "./Scripts/plotseqlogo.py:41: FutureWarning: arrays to stack must be passed as a \"sequence\" type such as list or tuple. Support for non-sequence iterables such as generators is deprecated as of NumPy 1.16 and will raise an error in the future.\n",
      "  min_coords = np.vstack(data.min(0) for data in polygons_data).min(0)\n",
      "./Scripts/plotseqlogo.py:42: FutureWarning: arrays to stack must be passed as a \"sequence\" type such as list or tuple. Support for non-sequence iterables such as generators is deprecated as of NumPy 1.16 and will raise an error in the future.\n",
      "  max_coords = np.vstack(data.max(0) for data in polygons_data).max(0)\n"
     ]
    }
   ],
   "source": [
    "import os\n",
    "import numpy as np\n",
    "import h5py\n",
    "import scipy.io\n",
    "np.random.seed(7) # for reproducibility\n",
    "\n",
    "import keras.backend as K\n",
    "from keras.models import Model, load_model\n",
    "\n",
    "import matplotlib.pyplot as plt\n",
    "import matplotlib\n",
    "#from concise.utils.plot import seqlogo, seqlogo_fig\n",
    "\n",
    "import sys\n",
    "sys.path.append(\"./Scripts/\")\n",
    "from IntegratedGradients import *\n",
    "from util_funcs import *\n",
    "from plotseqlogo import seqlogo, seqlogo_fig"
   ]
  },
  {
   "cell_type": "code",
   "execution_count": 2,
   "metadata": {},
   "outputs": [
    {
     "name": "stderr",
     "output_type": "stream",
     "text": [
      "/anaconda3/lib/python3.7/site-packages/IPython/extensions/rmagic.py:11: UserWarning: The rmagic extension in IPython has moved to `rpy2.ipython`, please see `rpy2` documentation.\n",
      "  warnings.warn(\"The rmagic extension in IPython has moved to \"\n"
     ]
    }
   ],
   "source": [
    "### library to use R\n",
    "%load_ext rpy2.ipython\n",
    "%load_ext rmagic"
   ]
  },
  {
   "cell_type": "code",
   "execution_count": 3,
   "metadata": {},
   "outputs": [
    {
     "name": "stdout",
     "output_type": "stream",
     "text": [
      "(7969, 150, 4)\n",
      "(7969, 250, 4)\n",
      "(7969, 27)\n",
      "(56547, 27)\n",
      "(42505, 150, 4)\n",
      "(42505, 250, 4)\n",
      "(42505, 21)\n",
      "(298301, 21)\n",
      "(192197, 150, 4)\n",
      "(192197, 250, 4)\n",
      "(192197, 11)\n",
      "(1346145, 11)\n"
     ]
    }
   ],
   "source": [
    "# add the absolute path of Data Directory to path_to_data\n",
    "path_to_data = \"Multi-resBind/Data/\"\n",
    "path_to_data_low = path_to_data + \"data_RBPslow.h5\"\n",
    "path_to_data_med = path_to_data + \"data_RBPsmed.h5\"\n",
    "path_to_data_high = path_to_data + \"data_RBPshigh.h5\"\n",
    "X_test_seq_low, X_test_region_low, y_test_RBP_low, y_test_name_low, y_train_low = load_data(path_to_data_low)\n",
    "X_test_seq_med, X_test_region_med, y_test_RBP_med, y_test_name_med, y_train_med = load_data(path_to_data_med)\n",
    "X_test_seq_high, X_test_region_high, y_test_RBP_high, y_test_name_high, y_train_high = load_data(path_to_data_high)\n",
    "print (X_test_seq_low.shape)\n",
    "print (X_test_region_low.shape)\n",
    "print (y_test_RBP_low.shape)\n",
    "print (y_train_low.shape)\n",
    "print (X_test_seq_med.shape)\n",
    "print (X_test_region_med.shape)\n",
    "print (y_test_RBP_med.shape)\n",
    "print (y_train_med.shape)\n",
    "print (X_test_seq_high.shape)\n",
    "print (X_test_region_high.shape)\n",
    "print (y_test_RBP_high.shape)\n",
    "print (y_train_high.shape)"
   ]
  },
  {
   "cell_type": "code",
   "execution_count": 4,
   "metadata": {},
   "outputs": [
    {
     "name": "stdout",
     "output_type": "stream",
     "text": [
      "(7969, 150, 8)\n",
      "(42505, 150, 8)\n",
      "(192197, 150, 8)\n"
     ]
    }
   ],
   "source": [
    "concat_low= np.concatenate((X_test_seq_low, X_test_region_low[:, 50:200, :]), axis=2)\n",
    "print (concat_low.shape)\n",
    "concat_med= np.concatenate((X_test_seq_med, X_test_region_med[:, 50:200, :]), axis=2)\n",
    "print (concat_med.shape)\n",
    "concat_high= np.concatenate((X_test_seq_high, X_test_region_high[:, 50:200, :]), axis=2)\n",
    "print (concat_high.shape)"
   ]
  },
  {
   "cell_type": "code",
   "execution_count": 5,
   "metadata": {},
   "outputs": [
    {
     "name": "stdout",
     "output_type": "stream",
     "text": [
      "./m_resbind_med_model.h5\n",
      "./m_resbind_high_model.h5\n"
     ]
    }
   ],
   "source": [
    "#load models and obtain prediction and integrated_gradients\n",
    "path_to_model = \"Multi-resBind/results/multi_resBind_vs_DeepRiPe/\"\n",
    "path_to_model_deepripe_low= path_to_model + \"DeepRiPe_low_model.h5\"\n",
    "path_to_model_resbind_low= path_to_model + \"m_resbind_low_model.h5\"\n",
    "path_to_model_deepripe_med= path_to_model + \"DeepRiPe_med_model.h5\"\n",
    "path_to_model_resbind_med= path_to_model + \"m_resbind_med_model.h5\"\n",
    "path_to_model_deepripe_high= path_to_model + \"DeepRiPe_high_model.h5\"\n",
    "path_to_model_resbind_high= path_to_model + \"m_resbind_high_model.h5\" \n",
    "print (path_to_model_resbind_med)\n",
    "print (path_to_model_resbind_high)"
   ]
  },
  {
   "cell_type": "code",
   "execution_count": 6,
   "metadata": {},
   "outputs": [
    {
     "name": "stdout",
     "output_type": "stream",
     "text": [
      "WARNING:tensorflow:From /anaconda3/lib/python3.7/site-packages/tensorflow/python/ops/resource_variable_ops.py:435: colocate_with (from tensorflow.python.framework.ops) is deprecated and will be removed in a future version.\n",
      "Instructions for updating:\n",
      "Colocations handled automatically by placer.\n"
     ]
    },
    {
     "name": "stderr",
     "output_type": "stream",
     "text": [
      "2021-03-24 15:40:01,920 [WARNING] From /anaconda3/lib/python3.7/site-packages/tensorflow/python/ops/resource_variable_ops.py:435: colocate_with (from tensorflow.python.framework.ops) is deprecated and will be removed in a future version.\n",
      "Instructions for updating:\n",
      "Colocations handled automatically by placer.\n"
     ]
    },
    {
     "name": "stdout",
     "output_type": "stream",
     "text": [
      "WARNING:tensorflow:From /anaconda3/lib/python3.7/site-packages/tensorflow/python/ops/math_ops.py:3066: to_int32 (from tensorflow.python.ops.math_ops) is deprecated and will be removed in a future version.\n",
      "Instructions for updating:\n",
      "Use tf.cast instead.\n"
     ]
    },
    {
     "name": "stderr",
     "output_type": "stream",
     "text": [
      "2021-03-24 15:40:02,606 [WARNING] From /anaconda3/lib/python3.7/site-packages/tensorflow/python/ops/math_ops.py:3066: to_int32 (from tensorflow.python.ops.math_ops) is deprecated and will be removed in a future version.\n",
      "Instructions for updating:\n",
      "Use tf.cast instead.\n"
     ]
    }
   ],
   "source": [
    "model_deepripe_low =load_model(path_to_model_deepripe_low, custom_objects={'precision': precision,'recall': recall }) \n",
    "pred_deepripe_low = model_deepripe_low.predict([X_test_seq_low, X_test_region_low])\n",
    "model_resbind_low=load_model(path_to_model_resbind_low, custom_objects={'precision': precision,'recall': recall }) \n",
    "pred_resbind_low=model_resbind_low.predict(concat_low)\n",
    "model_deepripe_med =load_model(path_to_model_deepripe_med, custom_objects={'precision': precision,'recall': recall }) \n",
    "pred_deepripe_med = model_deepripe_med.predict([X_test_seq_med, X_test_region_med])\n",
    "model_resbind_med=load_model(path_to_model_resbind_med, custom_objects={'precision': precision,'recall': recall }) \n",
    "pred_resbind_med=model_resbind_med.predict(concat_med)\n",
    "model_deepripe_high =load_model(path_to_model_deepripe_high, custom_objects={'precision': precision,'recall': recall }) \n",
    "pred_deepripe_high = model_deepripe_high.predict([X_test_seq_high, X_test_region_high])\n",
    "model_resbind_high=load_model(path_to_model_resbind_high, custom_objects={'precision': precision,'recall': recall }) \n",
    "pred_resbind_high=model_resbind_high.predict(concat_high)"
   ]
  },
  {
   "cell_type": "code",
   "execution_count": 7,
   "metadata": {},
   "outputs": [],
   "source": [
    "#RBPnames for each model\n",
    "RBPnames_low=np.array(['MBNL1', 'P53_NONO', 'PUM2', 'QKI', 'AGO3', 'FUS', 'TAF15', 'ZFP36', 'DICER1', 'EIF3A', 'EIF3D', 'EIF3G', 'SSB', 'PAPD5', 'CPSF4', 'CPSF3', 'RTCB', 'FXR1', 'NOP58', 'NOP56', 'FBL', 'LIN28A', 'LIN28B', 'UPF1', 'G35', 'G45', 'XPO5'])\n",
    "RBPnames_med=np.array(['TARDBP', 'ELAVL2', 'ELAVL3', 'ELAVL4', 'RBM20', 'IGF2BP1', 'IGF2BP2', 'IGF2BP3', 'EWSR1', 'HNRNPD', 'RBPMS', 'SRRM4', 'AGO2', 'NUDT21', 'FIP1L1', 'CAPRIN1', 'FMR1iso7', 'FXR2', 'AGO1', 'L1RE1', 'ORF1'])\n",
    "RBPnames_high=np.array(['DND1', 'CPSF7', 'CPSF6', 'CPSF1', 'CSTF2', 'CSTF2T', 'ZC3H7B', 'FMR1iso1', 'RBM10', 'MOV10', 'ELAVL1'])\n",
    "\n",
    "#number of tasks for each model\n",
    "num_task_high=len(RBPnames_high)\n",
    "num_task_med=len(RBPnames_med)\n",
    "num_task_low=len(RBPnames_low)"
   ]
  },
  {
   "cell_type": "code",
   "execution_count": 8,
   "metadata": {},
   "outputs": [],
   "source": [
    "from sklearn.metrics import precision_recall_curve\n",
    "from sklearn.metrics import average_precision_score\n",
    "from sklearn.metrics import roc_curve, auc\n",
    "from sklearn.metrics import roc_auc_score\n",
    "import numpy as np\n",
    "from matplotlib.font_manager import FontProperties\n",
    "import matplotlib as mpl\n",
    "import matplotlib"
   ]
  },
  {
   "cell_type": "code",
   "execution_count": 9,
   "metadata": {},
   "outputs": [
    {
     "name": "stdout",
     "output_type": "stream",
     "text": [
      "27\n",
      "27\n"
     ]
    }
   ],
   "source": [
    "y_true_low=y_test_RBP_low\n",
    "type(y_true_low) == np.ndarray\n",
    "y_pred_deepripe_low= pred_deepripe_low\n",
    "y_pred_resbind_low = pred_resbind_low\n",
    "num_task_low = 27\n",
    "print (num_task_low)\n",
    "print (len(RBPnames_low))"
   ]
  },
  {
   "cell_type": "code",
   "execution_count": 10,
   "metadata": {},
   "outputs": [
    {
     "name": "stdout",
     "output_type": "stream",
     "text": [
      "21\n",
      "21\n"
     ]
    }
   ],
   "source": [
    "y_true_med=y_test_RBP_med\n",
    "type(y_true_med) == np.ndarray\n",
    "y_pred_deepripe_med= pred_deepripe_med\n",
    "y_pred_resbind_med = pred_resbind_med\n",
    "num_task_med = 21\n",
    "print (num_task_med)\n",
    "print (len(RBPnames_med))"
   ]
  },
  {
   "cell_type": "code",
   "execution_count": 11,
   "metadata": {},
   "outputs": [
    {
     "name": "stdout",
     "output_type": "stream",
     "text": [
      "11\n",
      "11\n"
     ]
    }
   ],
   "source": [
    "y_true_high=y_test_RBP_high\n",
    "type(y_true_high) == np.ndarray\n",
    "y_pred_deepripe_high= pred_deepripe_high\n",
    "y_pred_resbind_high = pred_resbind_high\n",
    "num_task_high = 11\n",
    "print (num_task_high)\n",
    "print (len(RBPnames_high))"
   ]
  },
  {
   "cell_type": "code",
   "execution_count": 12,
   "metadata": {},
   "outputs": [
    {
     "name": "stdout",
     "output_type": "stream",
     "text": [
      "0.33142920105566426\n",
      "0.8752383853700605\n"
     ]
    }
   ],
   "source": [
    "precision_low = l = [None] * len(RBPnames_low)\n",
    "recall_low = [None] * len(RBPnames_low)\n",
    "average_precision_low = [None] * len(RBPnames_low)\n",
    "\n",
    "fpr_low = [None] * len(RBPnames_low)\n",
    "tpr_low = [None] * len(RBPnames_low)\n",
    "roc_auc_low = [None] * len(RBPnames_low)\n",
    "pr_auc_low = [None] * len(RBPnames_low)\n",
    "\n",
    "for i in range(num_task_low):\n",
    "    precision_low[i], recall_low[i], _ = precision_recall_curve(y_true_low[:, i],y_pred_deepripe_low[:, i])\n",
    "    average_precision_low[i] = average_precision_score(y_true_low[:, i], y_pred_deepripe_low[:, i])\n",
    "    pr_auc_low [i]= auc(recall_low[i],precision_low[i])\n",
    "    fpr_low[i], tpr_low[i], _ = roc_curve(y_true_low[:, i], y_pred_deepripe_low[:, i])\n",
    "    roc_auc_low[i] = auc(fpr_low[i], tpr_low[i])\n",
    "average_precision_deepripe_low = average_precision_low\n",
    "roc_auc_deepripe_low = roc_auc_low\n",
    "print (np.mean(average_precision_deepripe_low))\n",
    "print (np.mean(roc_auc_deepripe_low))"
   ]
  },
  {
   "cell_type": "code",
   "execution_count": 13,
   "metadata": {},
   "outputs": [
    {
     "name": "stdout",
     "output_type": "stream",
     "text": [
      "0.38084524509396583\n",
      "0.897584452672511\n"
     ]
    }
   ],
   "source": [
    "precision_low = l = [None] * len(RBPnames_low)\n",
    "recall_low = [None] * len(RBPnames_low)\n",
    "average_precision_low = [None] * len(RBPnames_low)\n",
    "\n",
    "fpr_low = [None] * len(RBPnames_low)\n",
    "tpr_low = [None] * len(RBPnames_low)\n",
    "roc_auc_low = [None] * len(RBPnames_low)\n",
    "pr_auc_low = [None] * len(RBPnames_low)\n",
    "\n",
    "for i in range(num_task_low):\n",
    "    precision_low[i], recall_low[i], _ = precision_recall_curve(y_true_low[:, i],y_pred_resbind_low[:, i])\n",
    "    average_precision_low[i] = average_precision_score(y_true_low[:, i], y_pred_resbind_low[:, i])\n",
    "    pr_auc_low [i]= auc(recall_low[i],precision_low[i])\n",
    "    fpr_low[i], tpr_low[i], _ = roc_curve(y_true_low[:, i], y_pred_resbind_low[:, i])\n",
    "    roc_auc_low[i] = auc(fpr_low[i], tpr_low[i])\n",
    "average_precision_resbind_low = average_precision_low\n",
    "roc_auc_resbind_low = roc_auc_low\n",
    "print (np.mean(average_precision_resbind_low))\n",
    "print (np.mean(roc_auc_resbind_low))"
   ]
  },
  {
   "cell_type": "code",
   "execution_count": 14,
   "metadata": {},
   "outputs": [
    {
     "name": "stdout",
     "output_type": "stream",
     "text": [
      "0.4516306295457091\n",
      "0.8778900467413796\n"
     ]
    }
   ],
   "source": [
    "precision_med = l = [None] * len(RBPnames_med)\n",
    "recall_med = [None] * len(RBPnames_med)\n",
    "average_precision_med = [None] * len(RBPnames_med)\n",
    "\n",
    "fpr_med = [None] * len(RBPnames_med)\n",
    "tpr_med = [None] * len(RBPnames_med)\n",
    "roc_auc_med = [None] * len(RBPnames_med)\n",
    "pr_auc_med = [None] * len(RBPnames_med)\n",
    "\n",
    "for i in range(num_task_med):\n",
    "    precision_med[i], recall_med[i], _ = precision_recall_curve(y_true_med[:, i],y_pred_deepripe_med[:, i])\n",
    "    average_precision_med[i] = average_precision_score(y_true_med[:, i], y_pred_deepripe_med[:, i])\n",
    "    pr_auc_med [i]= auc(recall_med[i],precision_med[i])\n",
    "    fpr_med[i], tpr_med[i], _ = roc_curve(y_true_med[:, i], y_pred_deepripe_med[:, i])\n",
    "    roc_auc_med[i] = auc(fpr_med[i], tpr_med[i])\n",
    "average_precision_deepripe_med = average_precision_med\n",
    "roc_auc_deepripe_med = roc_auc_med\n",
    "print (np.mean(average_precision_deepripe_med))\n",
    "print (np.mean(roc_auc_deepripe_med))"
   ]
  },
  {
   "cell_type": "code",
   "execution_count": 15,
   "metadata": {},
   "outputs": [
    {
     "name": "stdout",
     "output_type": "stream",
     "text": [
      "0.48263534881490144\n",
      "0.888945389475466\n"
     ]
    }
   ],
   "source": [
    "precision_med = l = [None] * len(RBPnames_med)\n",
    "recall_med = [None] * len(RBPnames_med)\n",
    "average_precision_med = [None] * len(RBPnames_med)\n",
    "\n",
    "fpr_med = [None] * len(RBPnames_med)\n",
    "tpr_med = [None] * len(RBPnames_med)\n",
    "roc_auc_med = [None] * len(RBPnames_med)\n",
    "pr_auc_med = [None] * len(RBPnames_med)\n",
    "\n",
    "for i in range(num_task_med):\n",
    "    precision_med[i], recall_med[i], _ = precision_recall_curve(y_true_med[:, i],y_pred_resbind_med[:, i])\n",
    "    average_precision_med[i] = average_precision_score(y_true_med[:, i], y_pred_resbind_med[:, i])\n",
    "    pr_auc_med [i]= auc(recall_med[i],precision_med[i])\n",
    "    fpr_med[i], tpr_med[i], _ = roc_curve(y_true_med[:, i], y_pred_resbind_med[:, i])\n",
    "    roc_auc_med[i] = auc(fpr_med[i], tpr_med[i])\n",
    "average_precision_resbind_med = average_precision_med\n",
    "roc_auc_resbind_med = roc_auc_med\n",
    "print (np.mean(average_precision_resbind_med))\n",
    "print (np.mean(roc_auc_resbind_med))"
   ]
  },
  {
   "cell_type": "code",
   "execution_count": 16,
   "metadata": {},
   "outputs": [
    {
     "name": "stdout",
     "output_type": "stream",
     "text": [
      "0.42732194761733344\n",
      "0.8312270036303743\n"
     ]
    }
   ],
   "source": [
    "precision_high = l = [None] * len(RBPnames_high)\n",
    "recall_high = [None] * len(RBPnames_high)\n",
    "average_precision_high = [None] * len(RBPnames_high)\n",
    "\n",
    "fpr_high = [None] * len(RBPnames_high)\n",
    "tpr_high = [None] * len(RBPnames_high)\n",
    "roc_auc_high = [None] * len(RBPnames_high)\n",
    "pr_auc_high = [None] * len(RBPnames_high)\n",
    "\n",
    "for i in range(num_task_high):\n",
    "    precision_high[i], recall_high[i], _ = precision_recall_curve(y_true_high[:, i],y_pred_deepripe_high[:, i])\n",
    "    average_precision_high[i] = average_precision_score(y_true_high[:, i], y_pred_deepripe_high[:, i])\n",
    "    pr_auc_high [i]= auc(recall_high[i],precision_high[i])\n",
    "    fpr_high[i], tpr_high[i], _ = roc_curve(y_true_high[:, i], y_pred_deepripe_high[:, i])\n",
    "    roc_auc_high[i] = auc(fpr_high[i], tpr_high[i])\n",
    "average_precision_deepripe_high = average_precision_high\n",
    "roc_auc_deepripe_high = roc_auc_high\n",
    "print (np.mean(average_precision_deepripe_high))\n",
    "print (np.mean(roc_auc_deepripe_high))"
   ]
  },
  {
   "cell_type": "code",
   "execution_count": 17,
   "metadata": {},
   "outputs": [
    {
     "name": "stdout",
     "output_type": "stream",
     "text": [
      "0.44858485934060577\n",
      "0.8417019722542467\n"
     ]
    }
   ],
   "source": [
    "precision_high = l = [None] * len(RBPnames_high)\n",
    "recall_high= [None] * len(RBPnames_high)\n",
    "average_precision_high = [None] * len(RBPnames_high)\n",
    "\n",
    "fpr_high = [None] * len(RBPnames_high)\n",
    "tpr_high = [None] * len(RBPnames_high)\n",
    "roc_auc_high = [None] * len(RBPnames_high)\n",
    "pr_auc_high = [None] * len(RBPnames_high)\n",
    "\n",
    "for i in range(num_task_high):\n",
    "    precision_high[i], recall_high[i], _ = precision_recall_curve(y_true_high[:, i],y_pred_resbind_high[:, i])\n",
    "    average_precision_high[i] = average_precision_score(y_true_high[:, i], y_pred_resbind_high[:, i])\n",
    "    pr_auc_high [i]= auc(recall_high[i],precision_high[i])\n",
    "    fpr_high[i], tpr_high[i], _ = roc_curve(y_true_high[:, i], y_pred_resbind_high[:, i])\n",
    "    roc_auc_high[i] = auc(fpr_high[i], tpr_high[i])\n",
    "average_precision_resbind_high = average_precision_high\n",
    "roc_auc_resbind_high = roc_auc_high\n",
    "print (np.mean(average_precision_resbind_high))\n",
    "print (np.mean(roc_auc_resbind_high))"
   ]
  },
  {
   "cell_type": "code",
   "execution_count": 18,
   "metadata": {},
   "outputs": [],
   "source": [
    "import pandas as pd\n",
    "df_AP_med = pd.DataFrame(np.zeros(num_task_med*4).reshape(num_task_med,4),\n",
    "                  columns=['RBPnames','Dataset','DeepRiPe', 'Multi-resBind'])"
   ]
  },
  {
   "cell_type": "code",
   "execution_count": 19,
   "metadata": {},
   "outputs": [
    {
     "data": {
      "text/html": [
       "<div>\n",
       "<style scoped>\n",
       "    .dataframe tbody tr th:only-of-type {\n",
       "        vertical-align: middle;\n",
       "    }\n",
       "\n",
       "    .dataframe tbody tr th {\n",
       "        vertical-align: top;\n",
       "    }\n",
       "\n",
       "    .dataframe thead th {\n",
       "        text-align: right;\n",
       "    }\n",
       "</style>\n",
       "<table border=\"1\" class=\"dataframe\">\n",
       "  <thead>\n",
       "    <tr style=\"text-align: right;\">\n",
       "      <th></th>\n",
       "      <th>RBPnames</th>\n",
       "      <th>Dataset</th>\n",
       "      <th>DeepRiPe</th>\n",
       "      <th>Multi-resBind</th>\n",
       "    </tr>\n",
       "  </thead>\n",
       "  <tbody>\n",
       "    <tr>\n",
       "      <th>0</th>\n",
       "      <td>TARDBP</td>\n",
       "      <td>med</td>\n",
       "      <td>0.735954</td>\n",
       "      <td>0.759243</td>\n",
       "    </tr>\n",
       "    <tr>\n",
       "      <th>1</th>\n",
       "      <td>ELAVL2</td>\n",
       "      <td>med</td>\n",
       "      <td>0.614708</td>\n",
       "      <td>0.646831</td>\n",
       "    </tr>\n",
       "    <tr>\n",
       "      <th>2</th>\n",
       "      <td>ELAVL3</td>\n",
       "      <td>med</td>\n",
       "      <td>0.721365</td>\n",
       "      <td>0.741380</td>\n",
       "    </tr>\n",
       "    <tr>\n",
       "      <th>3</th>\n",
       "      <td>ELAVL4</td>\n",
       "      <td>med</td>\n",
       "      <td>0.587873</td>\n",
       "      <td>0.619103</td>\n",
       "    </tr>\n",
       "    <tr>\n",
       "      <th>4</th>\n",
       "      <td>RBM20</td>\n",
       "      <td>med</td>\n",
       "      <td>0.594818</td>\n",
       "      <td>0.634396</td>\n",
       "    </tr>\n",
       "  </tbody>\n",
       "</table>\n",
       "</div>"
      ],
      "text/plain": [
       "  RBPnames Dataset  DeepRiPe  Multi-resBind\n",
       "0   TARDBP     med  0.735954       0.759243\n",
       "1   ELAVL2     med  0.614708       0.646831\n",
       "2   ELAVL3     med  0.721365       0.741380\n",
       "3   ELAVL4     med  0.587873       0.619103\n",
       "4    RBM20     med  0.594818       0.634396"
      ]
     },
     "execution_count": 19,
     "metadata": {},
     "output_type": "execute_result"
    }
   ],
   "source": [
    "df_AP_med.loc[:, 'RBPnames'] = RBPnames_med\n",
    "df_AP_med.loc[:, 'Dataset'] = \"med\"\n",
    "df_AP_med.loc[:, 'DeepRiPe'] = average_precision_deepripe_med\n",
    "df_AP_med.loc[:, 'Multi-resBind'] = average_precision_resbind_med\n",
    "#df = df_AP.melt(id_vars=['RBPnames'])\n",
    "df_AP_med.head ()"
   ]
  },
  {
   "cell_type": "code",
   "execution_count": 20,
   "metadata": {},
   "outputs": [
    {
     "data": {
      "text/html": [
       "<div>\n",
       "<style scoped>\n",
       "    .dataframe tbody tr th:only-of-type {\n",
       "        vertical-align: middle;\n",
       "    }\n",
       "\n",
       "    .dataframe tbody tr th {\n",
       "        vertical-align: top;\n",
       "    }\n",
       "\n",
       "    .dataframe thead th {\n",
       "        text-align: right;\n",
       "    }\n",
       "</style>\n",
       "<table border=\"1\" class=\"dataframe\">\n",
       "  <thead>\n",
       "    <tr style=\"text-align: right;\">\n",
       "      <th></th>\n",
       "      <th>RBPnames</th>\n",
       "      <th>Dataset</th>\n",
       "      <th>DeepRiPe</th>\n",
       "      <th>Multi-resBind</th>\n",
       "    </tr>\n",
       "  </thead>\n",
       "  <tbody>\n",
       "    <tr>\n",
       "      <th>0</th>\n",
       "      <td>MBNL1</td>\n",
       "      <td>low</td>\n",
       "      <td>0.942944</td>\n",
       "      <td>0.947053</td>\n",
       "    </tr>\n",
       "    <tr>\n",
       "      <th>1</th>\n",
       "      <td>P53_NONO</td>\n",
       "      <td>low</td>\n",
       "      <td>0.389836</td>\n",
       "      <td>0.457259</td>\n",
       "    </tr>\n",
       "    <tr>\n",
       "      <th>2</th>\n",
       "      <td>PUM2</td>\n",
       "      <td>low</td>\n",
       "      <td>0.699582</td>\n",
       "      <td>0.736005</td>\n",
       "    </tr>\n",
       "    <tr>\n",
       "      <th>3</th>\n",
       "      <td>QKI</td>\n",
       "      <td>low</td>\n",
       "      <td>0.636096</td>\n",
       "      <td>0.673040</td>\n",
       "    </tr>\n",
       "    <tr>\n",
       "      <th>4</th>\n",
       "      <td>AGO3</td>\n",
       "      <td>low</td>\n",
       "      <td>0.492530</td>\n",
       "      <td>0.548658</td>\n",
       "    </tr>\n",
       "  </tbody>\n",
       "</table>\n",
       "</div>"
      ],
      "text/plain": [
       "   RBPnames Dataset  DeepRiPe  Multi-resBind\n",
       "0     MBNL1     low  0.942944       0.947053\n",
       "1  P53_NONO     low  0.389836       0.457259\n",
       "2      PUM2     low  0.699582       0.736005\n",
       "3       QKI     low  0.636096       0.673040\n",
       "4      AGO3     low  0.492530       0.548658"
      ]
     },
     "execution_count": 20,
     "metadata": {},
     "output_type": "execute_result"
    }
   ],
   "source": [
    "df_AP_low = pd.DataFrame(np.zeros(num_task_low*4).reshape(num_task_low,4),\n",
    "                  columns=['RBPnames','Dataset','DeepRiPe', 'Multi-resBind'])\n",
    "df_AP_low.loc[:, 'RBPnames'] = RBPnames_low\n",
    "df_AP_low.loc[:, 'Dataset'] = \"low\"\n",
    "df_AP_low.loc[:, 'DeepRiPe'] = average_precision_deepripe_low\n",
    "df_AP_low.loc[:, 'Multi-resBind'] = average_precision_resbind_low\n",
    "df_AP_low.head ()"
   ]
  },
  {
   "cell_type": "code",
   "execution_count": 21,
   "metadata": {},
   "outputs": [
    {
     "data": {
      "text/html": [
       "<div>\n",
       "<style scoped>\n",
       "    .dataframe tbody tr th:only-of-type {\n",
       "        vertical-align: middle;\n",
       "    }\n",
       "\n",
       "    .dataframe tbody tr th {\n",
       "        vertical-align: top;\n",
       "    }\n",
       "\n",
       "    .dataframe thead th {\n",
       "        text-align: right;\n",
       "    }\n",
       "</style>\n",
       "<table border=\"1\" class=\"dataframe\">\n",
       "  <thead>\n",
       "    <tr style=\"text-align: right;\">\n",
       "      <th></th>\n",
       "      <th>RBPnames</th>\n",
       "      <th>Dataset</th>\n",
       "      <th>DeepRiPe</th>\n",
       "      <th>Multi-resBind</th>\n",
       "    </tr>\n",
       "  </thead>\n",
       "  <tbody>\n",
       "    <tr>\n",
       "      <th>0</th>\n",
       "      <td>DND1</td>\n",
       "      <td>high</td>\n",
       "      <td>0.457597</td>\n",
       "      <td>0.489461</td>\n",
       "    </tr>\n",
       "    <tr>\n",
       "      <th>1</th>\n",
       "      <td>CPSF7</td>\n",
       "      <td>high</td>\n",
       "      <td>0.543716</td>\n",
       "      <td>0.560319</td>\n",
       "    </tr>\n",
       "    <tr>\n",
       "      <th>2</th>\n",
       "      <td>CPSF6</td>\n",
       "      <td>high</td>\n",
       "      <td>0.254853</td>\n",
       "      <td>0.267445</td>\n",
       "    </tr>\n",
       "    <tr>\n",
       "      <th>3</th>\n",
       "      <td>CPSF1</td>\n",
       "      <td>high</td>\n",
       "      <td>0.234950</td>\n",
       "      <td>0.242494</td>\n",
       "    </tr>\n",
       "    <tr>\n",
       "      <th>4</th>\n",
       "      <td>CSTF2</td>\n",
       "      <td>high</td>\n",
       "      <td>0.297231</td>\n",
       "      <td>0.309280</td>\n",
       "    </tr>\n",
       "  </tbody>\n",
       "</table>\n",
       "</div>"
      ],
      "text/plain": [
       "  RBPnames Dataset  DeepRiPe  Multi-resBind\n",
       "0     DND1    high  0.457597       0.489461\n",
       "1    CPSF7    high  0.543716       0.560319\n",
       "2    CPSF6    high  0.254853       0.267445\n",
       "3    CPSF1    high  0.234950       0.242494\n",
       "4    CSTF2    high  0.297231       0.309280"
      ]
     },
     "execution_count": 21,
     "metadata": {},
     "output_type": "execute_result"
    }
   ],
   "source": [
    "df_AP_high = pd.DataFrame(np.zeros(num_task_high*4).reshape(num_task_high,4),\n",
    "                 columns=['RBPnames','Dataset','DeepRiPe', 'Multi-resBind'])\n",
    "df_AP_high.loc[:, 'RBPnames'] = RBPnames_high\n",
    "df_AP_high.loc[:, 'Dataset'] = \"high\"\n",
    "df_AP_high.loc[:, 'DeepRiPe'] = average_precision_deepripe_high\n",
    "df_AP_high.loc[:, 'Multi-resBind'] = average_precision_resbind_high\n",
    "df_AP_high.head ()"
   ]
  },
  {
   "cell_type": "code",
   "execution_count": null,
   "metadata": {},
   "outputs": [],
   "source": [
    "import scipy.stats as stats\n",
    "data1 = df_AP_low.loc[:, 'DeepRiPe']\n",
    "data2 = df_AP_low.loc[:, 'Multi-resBind']\n",
    "stat, p = stats.wilcoxon(data1, data2, alternative='less')\n",
    "print(\"pvalues:\", '%.2e' %p)\n",
    "data3 = df_AP_med.loc[:, 'DeepRiPe']\n",
    "data4 = df_AP_med.loc[:, 'Multi-resBind']\n",
    "stat, p = stats.wilcoxon(data3, data4, alternative='less')\n",
    "print(\"pvalues:\", '%.2e' %p)\n",
    "data3 = df_AP_high.loc[:, 'DeepRiPe']\n",
    "data4 = df_AP_high.loc[:, 'Multi-resBind']\n",
    "stat, p = stats.wilcoxon(data1, data2, alternative='less')\n",
    "print(\"pvalues:\", '%.2e' %p)"
   ]
  },
  {
   "cell_type": "code",
   "execution_count": null,
   "metadata": {},
   "outputs": [],
   "source": [
    "# plotting the performance comparison of Fig.2 (b)"
   ]
  },
  {
   "cell_type": "code",
   "execution_count": 93,
   "metadata": {
    "scrolled": true
   },
   "outputs": [
    {
     "name": "stdout",
     "output_type": "stream",
     "text": [
      "p-value annotation legend:\n",
      "ns: 5.00e-02 < p <= 1.00e+00\n",
      "*: 1.00e-02 < p <= 5.00e-02\n",
      "**: 1.00e-03 < p <= 1.00e-02\n",
      "***: 1.00e-04 < p <= 1.00e-03\n",
      "****: p <= 1.00e-04\n",
      "\n",
      "med_DeepRiPe v.s. med_Multi-resBind: Custom statistical test, P_val:0.000e+00\n",
      "low_DeepRiPe v.s. low_Multi-resBind: Custom statistical test, P_val:0.000e+00\n",
      "high_DeepRiPe v.s. high_Multi-resBind: Custom statistical test, P_val:0.000e+00\n"
     ]
    },
    {
     "name": "stderr",
     "output_type": "stream",
     "text": [
      "2021-03-24 21:20:15,654 [WARNING] The PostScript backend does not support transparency; partially transparent artists will be rendered opaque.\n",
      "2021-03-24 21:20:15,657 [WARNING] The PostScript backend does not support transparency; partially transparent artists will be rendered opaque.\n"
     ]
    },
    {
     "data": {
      "image/png": "[encoded data removed]",
      "text/plain": [
       "<Figure size 600x600 with 1 Axes>"
      ]
     },
     "metadata": {},
     "output_type": "display_data"
    }
   ],
   "source": [
    "import matplotlib.pyplot as plt\n",
    "import seaborn as sns\n",
    "from statannot import add_stat_annotation\n",
    "fig = plt.figure(figsize=(6, 6))\n",
    "plt.style.use('default')\n",
    "sns.set(style='ticks')\n",
    "sns.set_palette('Set2')\n",
    "ax = fig.add_subplot(1, 1, 1)\n",
    "sns.boxplot(x='Dataset', y='value', data=df_AP, hue='Model', showfliers=False, palette='Set2', ax=ax)\n",
    "sns.stripplot(x='Dataset', y='value', data=df_AP, hue='Model', dodge=True, jitter=True, color='black', ax=ax)\n",
    "handles, labels = ax.get_legend_handles_labels()\n",
    "ax.legend(handles[0:2], labels[0:2])\n",
    "ax.set_xlabel('Dataset')\n",
    "ax.set_ylabel('AP scores')\n",
    "box_pairs=[\n",
    "    ((\"low\", \"DeepRiPe\"), (\"low\", \"Multi-resBind\")),\n",
    "    ((\"med\", \"DeepRiPe\"), (\"med\", \"Multi-resBind\")),\n",
    "    ((\"high\", \"DeepRiPe\"), (\"high\", \"Multi-resBind\")),\n",
    "    ]\n",
    "add_stat_annotation(ax, x='Dataset', y='value', data=df_AP, hue='Model', box_pairs=box_pairs,\n",
    "                    text_annot_custom=[\"p value = 2.80e-06\", \"p value = 4.77e-07\", \"p value = 2.80e-06\"],\n",
    "                    perform_stat_test=False, pvalues=[0, 0, 0],\n",
    "                    loc='inside', line_offset_to_box=0.05, line_offset=0, line_height=0.05, text_offset=8,\n",
    "                    verbose=2)\n",
    "#plt.show()\n",
    "plt.savefig('AP_graph.eps', format='eps',bbox_inches='tight')\n",
    "#f.savefig(\"AP_graph.pdf\", bbox_inches='tight')"
   ]
  },
  {
   "cell_type": "code",
   "execution_count": 45,
   "metadata": {},
   "outputs": [
    {
     "data": {
      "text/html": [
       "<div>\n",
       "<style scoped>\n",
       "    .dataframe tbody tr th:only-of-type {\n",
       "        vertical-align: middle;\n",
       "    }\n",
       "\n",
       "    .dataframe tbody tr th {\n",
       "        vertical-align: top;\n",
       "    }\n",
       "\n",
       "    .dataframe thead th {\n",
       "        text-align: right;\n",
       "    }\n",
       "</style>\n",
       "<table border=\"1\" class=\"dataframe\">\n",
       "  <thead>\n",
       "    <tr style=\"text-align: right;\">\n",
       "      <th></th>\n",
       "      <th>RBPnames</th>\n",
       "      <th>Dataset</th>\n",
       "      <th>DeepRiPe</th>\n",
       "      <th>Multi-resBind</th>\n",
       "    </tr>\n",
       "  </thead>\n",
       "  <tbody>\n",
       "    <tr>\n",
       "      <th>0</th>\n",
       "      <td>TARDBP</td>\n",
       "      <td>med</td>\n",
       "      <td>0.954223</td>\n",
       "      <td>0.959979</td>\n",
       "    </tr>\n",
       "    <tr>\n",
       "      <th>1</th>\n",
       "      <td>ELAVL2</td>\n",
       "      <td>med</td>\n",
       "      <td>0.928077</td>\n",
       "      <td>0.935974</td>\n",
       "    </tr>\n",
       "    <tr>\n",
       "      <th>2</th>\n",
       "      <td>ELAVL3</td>\n",
       "      <td>med</td>\n",
       "      <td>0.944168</td>\n",
       "      <td>0.950575</td>\n",
       "    </tr>\n",
       "    <tr>\n",
       "      <th>3</th>\n",
       "      <td>ELAVL4</td>\n",
       "      <td>med</td>\n",
       "      <td>0.935299</td>\n",
       "      <td>0.941988</td>\n",
       "    </tr>\n",
       "    <tr>\n",
       "      <th>4</th>\n",
       "      <td>RBM20</td>\n",
       "      <td>med</td>\n",
       "      <td>0.910829</td>\n",
       "      <td>0.923676</td>\n",
       "    </tr>\n",
       "  </tbody>\n",
       "</table>\n",
       "</div>"
      ],
      "text/plain": [
       "  RBPnames Dataset  DeepRiPe  Multi-resBind\n",
       "0   TARDBP     med  0.954223       0.959979\n",
       "1   ELAVL2     med  0.928077       0.935974\n",
       "2   ELAVL3     med  0.944168       0.950575\n",
       "3   ELAVL4     med  0.935299       0.941988\n",
       "4    RBM20     med  0.910829       0.923676"
      ]
     },
     "execution_count": 45,
     "metadata": {},
     "output_type": "execute_result"
    }
   ],
   "source": [
    "df_AUROC_med = pd.DataFrame(np.zeros(num_task_med*4).reshape(num_task_med,4),\n",
    "                  columns=['RBPnames','Dataset','DeepRiPe', 'Multi-resBind'])\n",
    "df_AUROC_med.loc[:, 'RBPnames'] = RBPnames_med\n",
    "df_AUROC_med.loc[:, 'Dataset'] = \"med\"\n",
    "df_AUROC_med.loc[:, 'DeepRiPe'] = roc_auc_deepripe_med\n",
    "df_AUROC_med.loc[:, 'Multi-resBind'] = roc_auc_resbind_med\n",
    "#df = df_AP.melt(id_vars=['RBPnames'])\n",
    "df_AUROC_med.head ()"
   ]
  },
  {
   "cell_type": "code",
   "execution_count": 46,
   "metadata": {},
   "outputs": [
    {
     "data": {
      "text/html": [
       "<div>\n",
       "<style scoped>\n",
       "    .dataframe tbody tr th:only-of-type {\n",
       "        vertical-align: middle;\n",
       "    }\n",
       "\n",
       "    .dataframe tbody tr th {\n",
       "        vertical-align: top;\n",
       "    }\n",
       "\n",
       "    .dataframe thead th {\n",
       "        text-align: right;\n",
       "    }\n",
       "</style>\n",
       "<table border=\"1\" class=\"dataframe\">\n",
       "  <thead>\n",
       "    <tr style=\"text-align: right;\">\n",
       "      <th></th>\n",
       "      <th>RBPnames</th>\n",
       "      <th>Dataset</th>\n",
       "      <th>DeepRiPe</th>\n",
       "      <th>Multi-resBind</th>\n",
       "    </tr>\n",
       "  </thead>\n",
       "  <tbody>\n",
       "    <tr>\n",
       "      <th>0</th>\n",
       "      <td>MBNL1</td>\n",
       "      <td>low</td>\n",
       "      <td>0.982971</td>\n",
       "      <td>0.985105</td>\n",
       "    </tr>\n",
       "    <tr>\n",
       "      <th>1</th>\n",
       "      <td>P53_NONO</td>\n",
       "      <td>low</td>\n",
       "      <td>0.919594</td>\n",
       "      <td>0.940176</td>\n",
       "    </tr>\n",
       "    <tr>\n",
       "      <th>2</th>\n",
       "      <td>PUM2</td>\n",
       "      <td>low</td>\n",
       "      <td>0.948727</td>\n",
       "      <td>0.954308</td>\n",
       "    </tr>\n",
       "    <tr>\n",
       "      <th>3</th>\n",
       "      <td>QKI</td>\n",
       "      <td>low</td>\n",
       "      <td>0.974170</td>\n",
       "      <td>0.982582</td>\n",
       "    </tr>\n",
       "    <tr>\n",
       "      <th>4</th>\n",
       "      <td>AGO3</td>\n",
       "      <td>low</td>\n",
       "      <td>0.875201</td>\n",
       "      <td>0.888198</td>\n",
       "    </tr>\n",
       "  </tbody>\n",
       "</table>\n",
       "</div>"
      ],
      "text/plain": [
       "   RBPnames Dataset  DeepRiPe  Multi-resBind\n",
       "0     MBNL1     low  0.982971       0.985105\n",
       "1  P53_NONO     low  0.919594       0.940176\n",
       "2      PUM2     low  0.948727       0.954308\n",
       "3       QKI     low  0.974170       0.982582\n",
       "4      AGO3     low  0.875201       0.888198"
      ]
     },
     "execution_count": 46,
     "metadata": {},
     "output_type": "execute_result"
    }
   ],
   "source": [
    "df_AUROC_low = pd.DataFrame(np.zeros(num_task_low*4).reshape(num_task_low,4),\n",
    "                  columns=['RBPnames','Dataset','DeepRiPe', 'Multi-resBind'])\n",
    "df_AUROC_low.loc[:, 'RBPnames'] = RBPnames_low\n",
    "df_AUROC_low.loc[:, 'Dataset'] = \"low\"\n",
    "df_AUROC_low.loc[:, 'DeepRiPe'] = roc_auc_deepripe_low\n",
    "df_AUROC_low.loc[:, 'Multi-resBind'] = roc_auc_resbind_low\n",
    "df_AUROC_low.head ()"
   ]
  },
  {
   "cell_type": "code",
   "execution_count": 47,
   "metadata": {
    "scrolled": true
   },
   "outputs": [
    {
     "data": {
      "text/html": [
       "<div>\n",
       "<style scoped>\n",
       "    .dataframe tbody tr th:only-of-type {\n",
       "        vertical-align: middle;\n",
       "    }\n",
       "\n",
       "    .dataframe tbody tr th {\n",
       "        vertical-align: top;\n",
       "    }\n",
       "\n",
       "    .dataframe thead th {\n",
       "        text-align: right;\n",
       "    }\n",
       "</style>\n",
       "<table border=\"1\" class=\"dataframe\">\n",
       "  <thead>\n",
       "    <tr style=\"text-align: right;\">\n",
       "      <th></th>\n",
       "      <th>RBPnames</th>\n",
       "      <th>Dataset</th>\n",
       "      <th>DeepRiPe</th>\n",
       "      <th>Multi-resBind</th>\n",
       "    </tr>\n",
       "  </thead>\n",
       "  <tbody>\n",
       "    <tr>\n",
       "      <th>0</th>\n",
       "      <td>DND1</td>\n",
       "      <td>high</td>\n",
       "      <td>0.820096</td>\n",
       "      <td>0.837184</td>\n",
       "    </tr>\n",
       "    <tr>\n",
       "      <th>1</th>\n",
       "      <td>CPSF7</td>\n",
       "      <td>high</td>\n",
       "      <td>0.793721</td>\n",
       "      <td>0.805413</td>\n",
       "    </tr>\n",
       "    <tr>\n",
       "      <th>2</th>\n",
       "      <td>CPSF6</td>\n",
       "      <td>high</td>\n",
       "      <td>0.784461</td>\n",
       "      <td>0.793751</td>\n",
       "    </tr>\n",
       "    <tr>\n",
       "      <th>3</th>\n",
       "      <td>CPSF1</td>\n",
       "      <td>high</td>\n",
       "      <td>0.771746</td>\n",
       "      <td>0.778777</td>\n",
       "    </tr>\n",
       "    <tr>\n",
       "      <th>4</th>\n",
       "      <td>CSTF2</td>\n",
       "      <td>high</td>\n",
       "      <td>0.813123</td>\n",
       "      <td>0.824217</td>\n",
       "    </tr>\n",
       "  </tbody>\n",
       "</table>\n",
       "</div>"
      ],
      "text/plain": [
       "  RBPnames Dataset  DeepRiPe  Multi-resBind\n",
       "0     DND1    high  0.820096       0.837184\n",
       "1    CPSF7    high  0.793721       0.805413\n",
       "2    CPSF6    high  0.784461       0.793751\n",
       "3    CPSF1    high  0.771746       0.778777\n",
       "4    CSTF2    high  0.813123       0.824217"
      ]
     },
     "execution_count": 47,
     "metadata": {},
     "output_type": "execute_result"
    }
   ],
   "source": [
    "df_AUROC_high = pd.DataFrame(np.zeros(num_task_high*4).reshape(num_task_high,4),\n",
    "                  columns=['RBPnames','Dataset','DeepRiPe', 'Multi-resBind'])\n",
    "df_AUROC_high.loc[:, 'RBPnames'] = RBPnames_high\n",
    "df_AUROC_high.loc[:, 'Dataset'] = \"high\"\n",
    "df_AUROC_high.loc[:, 'DeepRiPe'] = roc_auc_deepripe_high\n",
    "df_AUROC_high.loc[:, 'Multi-resBind'] = roc_auc_resbind_high\n",
    "df_AUROC_high.head ()"
   ]
  },
  {
   "cell_type": "code",
   "execution_count": null,
   "metadata": {},
   "outputs": [],
   "source": [
    "import scipy.stats as stats\n",
    "data1 = df_AUROC_low.loc[:, 'DeepRiPe']\n",
    "data2 = df_AUROC_low.loc[:, 'Multi-resBind']\n",
    "stat, p = stats.wilcoxon(data1, data2, alternative='less')\n",
    "print(\"pvalues:\", '%.2e' %p)\n",
    "data3 = df_AUROC_med.loc[:, 'DeepRiPe']\n",
    "data4 = df_AUROC_med.loc[:, 'Multi-resBind']\n",
    "stat, p = stats.wilcoxon(data3, data4, alternative='less')\n",
    "print(\"pvalues:\", '%.2e' %p)\n",
    "data3 = df_AUROC_high.loc[:, 'DeepRiPe']\n",
    "data4 = df_AUROC_high.loc[:, 'Multi-resBind']\n",
    "stat, p = stats.wilcoxon(data1, data2, alternative='less')\n",
    "print(\"pvalues:\", '%.2e' %p)"
   ]
  },
  {
   "cell_type": "code",
   "execution_count": null,
   "metadata": {},
   "outputs": [],
   "source": [
    "# plotting the performance comparison of Fig.2 (a)"
   ]
  },
  {
   "cell_type": "code",
   "execution_count": 94,
   "metadata": {
    "scrolled": true
   },
   "outputs": [
    {
     "name": "stdout",
     "output_type": "stream",
     "text": [
      "p-value annotation legend:\n",
      "ns: 5.00e-02 < p <= 1.00e+00\n",
      "*: 1.00e-02 < p <= 5.00e-02\n",
      "**: 1.00e-03 < p <= 1.00e-02\n",
      "***: 1.00e-04 < p <= 1.00e-03\n",
      "****: p <= 1.00e-04\n",
      "\n",
      "med_DeepRiPe v.s. med_Multi-resBind: Custom statistical test, P_val:0.000e+00\n",
      "low_DeepRiPe v.s. low_Multi-resBind: Custom statistical test, P_val:0.000e+00\n",
      "high_DeepRiPe v.s. high_Multi-resBind: Custom statistical test, P_val:0.000e+00\n"
     ]
    },
    {
     "name": "stderr",
     "output_type": "stream",
     "text": [
      "2021-03-24 21:20:44,988 [WARNING] The PostScript backend does not support transparency; partially transparent artists will be rendered opaque.\n",
      "2021-03-24 21:20:44,988 [WARNING] The PostScript backend does not support transparency; partially transparent artists will be rendered opaque.\n"
     ]
    },
    {
     "data": {
      "image/png": "[encoded data removed]",
      "text/plain": [
       "<Figure size 600x600 with 1 Axes>"
      ]
     },
     "metadata": {},
     "output_type": "display_data"
    }
   ],
   "source": [
    "fig = plt.figure(figsize=(6, 6))\n",
    "plt.style.use('default')\n",
    "sns.set(style='ticks')\n",
    "sns.set_palette('Set2')\n",
    "ax = fig.add_subplot(1, 1, 1)\n",
    "sns.boxplot(x='Dataset', y='value', data=df_AUROC, hue='Model', showfliers=False, palette='Set2', ax=ax)\n",
    "sns.stripplot(x='Dataset', y='value', data=df_AUROC, hue='Model', dodge=True, jitter=True, color='black', ax=ax)\n",
    "handles, labels = ax.get_legend_handles_labels()\n",
    "ax.legend(handles[0:2], labels[0:2])\n",
    "ax.set_xlabel('Dataset')\n",
    "ax.set_ylabel('AUROC scores')\n",
    "box_pairs=[\n",
    "    ((\"low\", \"DeepRiPe\"), (\"low\", \"Multi-resBind\")),\n",
    "    ((\"med\", \"DeepRiPe\"), (\"med\", \"Multi-resBind\")),\n",
    "    ((\"high\", \"DeepRiPe\"), (\"high\", \"Multi-resBind\")),\n",
    "    ]\n",
    "ax.set_xlabel('Dataset')\n",
    "ax.set_ylabel('AUROC scores')\n",
    "add_stat_annotation(ax, x='Dataset', y='value', data=df_AUROC, hue='Model', box_pairs=box_pairs,\n",
    "                    text_annot_custom=[\"p value = 2.80e-06\", \"p value = 4.77e-07\", \"p value = 2.80e-06\"],\n",
    "                    perform_stat_test=False, pvalues=[0, 0, 0],\n",
    "                    loc='inside', comparisons_correction=None,\n",
    "                    line_offset_to_box=0.05, line_offset=0, line_height=0.05, text_offset=8,\n",
    "                    verbose=2)\n",
    "#plt.show()\n",
    "plt.savefig('AUROC_graph.eps', format='eps',bbox_inches='tight')\n",
    "#f.savefig(\"AP_graph.pdf\", bbox_inches='tight')text_annot_custom=[\"first pair\", \"second pair\", \"third pair\"],"
   ]
  },
  {
   "cell_type": "code",
   "execution_count": null,
   "metadata": {},
   "outputs": [],
   "source": [
    "# code for plot performance comparison of Fig.2 (c)"
   ]
  },
  {
   "cell_type": "code",
   "execution_count": null,
   "metadata": {
    "scrolled": true
   },
   "outputs": [],
   "source": [
    "df_AUROC_2 = pd.concat([df_AUROC_low,df_AUROC_med,df_AUROC_high])\n",
    "plt.figure(figsize=(6, 6))\n",
    "plt.style.use('default')\n",
    "sns.set()\n",
    "sns.set(style='ticks')\n",
    "lineStart = 0.5\n",
    "lineEnd = 1\n",
    "sns.lmpl1 ot( x=\"DeepRiPe\", y=\"Multi-resBind\", data=df_AUROC_2, fit_reg=False, hue='Dataset', legend=True, palette=\"Set1\")\n",
    "plt.plot([lineStart, lineEnd], [lineStart, lineEnd], 'k-', color = 'black')\n",
    "plt.xlim(lineStart, lineEnd)\n",
    "plt.ylim(lineStart, lineEnd)\n",
    "plt.title('AUROC values')\n",
    "#plt.show()\n",
    "plt.savefig('scatter_AUROC_graph.eps', format='eps',bbox_inches=\"tight\")"
   ]
  },
  {
   "cell_type": "code",
   "execution_count": null,
   "metadata": {},
   "outputs": [],
   "source": [
    "# code for plot performance comparison of Fig.2 (d)"
   ]
  },
  {
   "cell_type": "code",
   "execution_count": null,
   "metadata": {},
   "outputs": [],
   "source": [
    "df_AP_2 = pd.concat([df_AP_low,df_AP_med,df_AP_high])\n",
    "plt.figure(figsize=(6, 6))\n",
    "plt.style.use('default')\n",
    "sns.set()\n",
    "sns.set(style='ticks')\n",
    "lineStart = 0\n",
    "lineEnd = 1\n",
    "sns.lmplot(x=\"DeepRiPe\", y=\"Multi-resBind\", data=df_AP_2, fit_reg=False, hue='Dataset', legend=True, palette=\"Set1\")\n",
    "plt.plot([lineStart, lineEnd], [lineStart, lineEnd], 'k-', color = 'black')\n",
    "plt.xlim(lineStart, lineEnd)\n",
    "plt.ylim(lineStart, lineEnd)\n",
    "plt.title('AP values')\n",
    "#plt.show()\n",
    "plt.savefig('scatter_AP_graph.eps', format='eps',bbox_inches=\"tight\")"
   ]
  },
  {
   "cell_type": "code",
   "execution_count": null,
   "metadata": {},
   "outputs": [],
   "source": [
    "# code for plot Fig.4 of ELAVL2 and CSTF2"
   ]
  },
  {
   "cell_type": "code",
   "execution_count": null,
   "metadata": {},
   "outputs": [],
   "source": [
    "igres_resbind= integrated_gradients(model_resbind_med)\n",
    "RBPnames = RBPnames_med\n",
    "pred= pred_resbind_med\n",
    "igres = igres_resbind\n",
    "RBPname = \"ELAVL2\""
   ]
  },
  {
   "cell_type": "code",
   "execution_count": null,
   "metadata": {},
   "outputs": [],
   "source": [
    "X_test_seq = X_test_seq_med\n",
    "X_test_region = X_test_region_med\n",
    "y_test_RBP = y_test_RBP_med\n",
    "e = concat_med"
   ]
  },
  {
   "cell_type": "code",
   "execution_count": null,
   "metadata": {},
   "outputs": [],
   "source": [
    "RBP_index = np.where(RBPnames == RBPname)[0][0]\n",
    "print (RBP_index)\n",
    "ind = [i[0] for i in sorted(enumerate(pred[:, RBP_index]), key=lambda x: x[1],\n",
    "                  reverse=True) if y_test_RBP[i[0], RBP_index] == 1 and pred[i[0], RBP_index] > 0.50][0:1]\n",
    "print (pred[ind,RBP_index])\n",
    "print (ind)\n",
    "ref_ind = [i[0] for i in sorted(enumerate(pred[:, RBP_index]), key=lambda x: x[1],\n",
    "                      reverse=False) if y_test_RBP[i[0], RBP_index] == 0][0:2000]\n",
    "#print (ref_ind)\n",
    "ref = np.mean(e[ref_ind], axis=0)\n",
    "print (ref.shape)\n",
    "ex_seq = np.array([igres.explain(e[i], outc=RBP_index, reference=ref) for i in ind])\n",
    "print (ex_seq.shape)\n",
    "seq_log = np.multiply(ex_seq, e[ind])\n",
    "print (seq_log.shape)"
   ]
  },
  {
   "cell_type": "code",
   "execution_count": null,
   "metadata": {
    "scrolled": true
   },
   "outputs": [],
   "source": [
    "plt.close(\"all\")\n",
    "seqlogo_fig(np.transpose(seq_log[:,:,:4],axes=(1,2,0)), vocab=\"RNA\", figsize=(8,2), ncol=1)\n",
    "plt.show()"
   ]
  },
  {
   "cell_type": "code",
   "execution_count": null,
   "metadata": {},
   "outputs": [],
   "source": [
    "i = 0\n",
    "intron = seq_log[i,:,4]\n",
    "CDS = seq_log[i,:,5]\n",
    "UTR1 = seq_log[i,:,6]\n",
    "UTR2 = seq_log[i,:,7]\n",
    "N = 150\n",
    "ind = np.arange(N) # the x locations for the groups\n",
    "width = 1\n",
    "fig = plt.figure(figsize=(8,2))\n",
    "ax1 = plt.subplot(2, 1, 1)\n",
    "seqlogo(np.transpose(seq_log[:, :, :4], axes=(1, 2, 0)), \"RNA\", ax1)\n",
    "ax2 = plt.subplot(2, 1, 2)\n",
    "ax2.bar(ind, intron, width, color='r')\n",
    "ax2.bar(ind, CDS, width, color='b')\n",
    "ax2.bar(ind, UTR1, width, color='g')\n",
    "ax2.bar(ind, UTR2, width, color='y')\n",
    "ax2.legend(labels=['intron', 'CDS','3_UTR','5_UTR'],fontsize=8)\n",
    "ax2.grid(False)\n",
    "ax2.set_xticks([],[])\n",
    "ax2.set_xlim( - 1,N + 1)\n",
    "ax2.yaxis.set_tick_params(labelsize=8)\n",
    "ax2.set_aspect(aspect='auto', adjustable='box')\n",
    "ax2.autoscale_view()\n",
    "fig.suptitle('ELAVL2', fontsize=12)\n",
    "#plt.show()\n",
    "plt.savefig('ELAVL2_seq_region_contribution_map.eps', format='eps',bbox_inches='tight')"
   ]
  },
  {
   "cell_type": "code",
   "execution_count": null,
   "metadata": {
    "scrolled": false
   },
   "outputs": [],
   "source": [
    "igres_resbind= integrated_gradients(model_resbind_high)\n",
    "RBPnames = RBPnames_high\n",
    "pred= pred_resbind_high\n",
    "igres = igres_resbind\n",
    "RBPname = \"CSTF2\""
   ]
  },
  {
   "cell_type": "code",
   "execution_count": null,
   "metadata": {},
   "outputs": [],
   "source": [
    "X_test_seq = X_test_seq_high\n",
    "X_test_region = X_test_region_high\n",
    "y_test_RBP = y_test_RBP_high\n",
    "e = concat_high"
   ]
  },
  {
   "cell_type": "code",
   "execution_count": null,
   "metadata": {},
   "outputs": [],
   "source": [
    "RBP_index = np.where(RBPnames == RBPname)[0][0]\n",
    "print (RBP_index)\n",
    "ind = [i[0] for i in sorted(enumerate(pred[:, RBP_index]), key=lambda x: x[1],\n",
    "                  reverse=True) if y_test_RBP[i[0], RBP_index] == 1 and pred[i[0], RBP_index] > 0.50][0:1]\n",
    "print (pred[ind,RBP_index])\n",
    "print (ind)\n",
    "ref_ind = [i[0] for i in sorted(enumerate(pred[:, RBP_index]), key=lambda x: x[1],\n",
    "                      reverse=False) if y_test_RBP[i[0], RBP_index] == 0][0:2000]\n",
    "#print (ref_ind)\n",
    "ref = np.mean(e[ref_ind], axis=0)\n",
    "print (ref.shape)\n",
    "ex_seq = np.array([igres.explain(e[i], outc=RBP_index, reference=ref) for i in ind])\n",
    "print (ex_seq.shape)\n",
    "seq_log = np.multiply(ex_seq, e[ind])\n",
    "print (seq_log.shape)"
   ]
  },
  {
   "cell_type": "code",
   "execution_count": null,
   "metadata": {
    "scrolled": true
   },
   "outputs": [],
   "source": [
    "plt.close(\"all\")\n",
    "seqlogo_fig(np.transpose(seq_log[:,:,:4],axes=(1,2,0)), vocab=\"RNA\", figsize=(8,3), ncol=1)\n",
    "plt.show()"
   ]
  },
  {
   "cell_type": "code",
   "execution_count": null,
   "metadata": {
    "scrolled": true
   },
   "outputs": [],
   "source": [
    "i = 0\n",
    "intron = seq_log[i,:,4]\n",
    "CDS = seq_log[i,:,5]\n",
    "UTR1 = seq_log[i,:,6]\n",
    "UTR2 = seq_log[i,:,7]\n",
    "N = 150\n",
    "ind = np.arange(N) # the x locations for the groups\n",
    "width = 1\n",
    "fig = plt.figure(figsize=(8,2))\n",
    "ax1 = plt.subplot(2, 1, 1)\n",
    "seqlogo(np.transpose(seq_log[:, :, :4], axes=(1, 2, 0)), \"RNA\", ax1)\n",
    "ax2 = plt.subplot(2, 1, 2)\n",
    "ax2.bar(ind, intron, width, color='r')\n",
    "ax2.bar(ind, CDS, width, color='b')\n",
    "ax2.bar(ind, UTR1, width, color='g')\n",
    "ax2.bar(ind, UTR2, width, color='y')\n",
    "ax2.legend(labels=['intron', 'CDS','3_UTR','5_UTR'],fontsize=8)\n",
    "ax2.grid(False)\n",
    "ax2.set_xticks([],[])\n",
    "ax2.set_xlim( - 1,N + 1)\n",
    "ax2.yaxis.set_tick_params(labelsize=8)\n",
    "ax2.set_aspect(aspect='auto', adjustable='box')\n",
    "ax2.autoscale_view()\n",
    "fig.suptitle('CSTF2', fontsize=12)\n",
    "#plt.show()\n",
    "plt.savefig('CSTF2_seq_region_contribution_map.eps', format='eps',bbox_inches='tight')"
   ]
  },
  {
   "cell_type": "code",
   "execution_count": null,
   "metadata": {},
   "outputs": [],
   "source": [
    "# code for plot Fig.3 of MBNL1, PUM2 and QKI"
   ]
  },
  {
   "cell_type": "code",
   "execution_count": null,
   "metadata": {},
   "outputs": [],
   "source": [
    "igres_resbind= integrated_gradients(model_resbind_low)\n",
    "RBPnames = RBPnames_low\n",
    "pred= pred_resbind_low\n",
    "igres = igres_resbind"
   ]
  },
  {
   "cell_type": "code",
   "execution_count": null,
   "metadata": {},
   "outputs": [],
   "source": [
    "X_test_seq = X_test_seq_low\n",
    "X_test_region = X_test_region_low\n",
    "y_test_RBP = y_test_RBP_low\n",
    "e = concat_low"
   ]
  },
  {
   "cell_type": "code",
   "execution_count": null,
   "metadata": {},
   "outputs": [],
   "source": [
    "RBPname = \"MBNL1\"\n",
    "RBP_index = np.where(RBPnames == RBPname)[0][0]\n",
    "#print (RBP_index)\n",
    "ind = [i[0] for i in sorted(enumerate(pred[:, RBP_index]), key=lambda x: x[1],\n",
    "                  reverse=True) if y_test_RBP[i[0], RBP_index] == 1 and pred[i[0], RBP_index] > 0.50][0:3]\n",
    "#print (pred[ind,RBP_index])\n",
    "#print (ind)\n",
    "ref_ind = [i[0] for i in sorted(enumerate(pred[:, RBP_index]), key=lambda x: x[1],\n",
    "                      reverse=False) if y_test_RBP[i[0], RBP_index] == 0][0:2000]\n",
    "#print (ref_ind)\n",
    "ref = np.mean(e[ref_ind], axis=0)\n",
    "#print (ref.shape)\n",
    "ex_seq = np.array([igres.explain(e[i], outc=RBP_index, reference=ref) for i in ind])\n",
    "#print (ex_seq.shape)\n",
    "seq_log = np.multiply(ex_seq, e[ind])\n",
    "#print (seq_log.shape)\n",
    "plt.close(\"all\")\n",
    "seqlogo_fig(np.transpose(seq_log[:,50:100,:4],axes=(1,2,0)), vocab=\"RNA\", figsize=(8,3), ncol=1)\n",
    "#plt.show()\n",
    "plt.savefig('MBNL1_contribution_map_negative.eps', format='eps',bbox_inches='tight')"
   ]
  },
  {
   "cell_type": "code",
   "execution_count": null,
   "metadata": {},
   "outputs": [],
   "source": [
    "RBPname = \"PUM2\"\n",
    "RBP_index = np.where(RBPnames == RBPname)[0][0]\n",
    "#print (RBP_index)\n",
    "ind = [i[0] for i in sorted(enumerate(pred[:, RBP_index]), key=lambda x: x[1],\n",
    "                  reverse=True) if y_test_RBP[i[0], RBP_index] == 1 and pred[i[0], RBP_index] > 0.50][0:3]\n",
    "#print (pred[ind,RBP_index])\n",
    "#print (ind)\n",
    "ref_ind = [i[0] for i in sorted(enumerate(pred[:, RBP_index]), key=lambda x: x[1],\n",
    "                      reverse=False) if y_test_RBP[i[0], RBP_index] == 0][0:2000]\n",
    "#print (ref_ind)\n",
    "ref = np.mean(e[ref_ind], axis=0)\n",
    "#print (ref.shape)\n",
    "ex_seq = np.array([igres.explain(e[i], outc=RBP_index, reference=ref) for i in ind])\n",
    "#print (ex_seq.shape)\n",
    "seq_log = np.multiply(ex_seq, e[ind])\n",
    "#print (seq_log.shape)\n",
    "plt.close(\"all\")\n",
    "seqlogo_fig(np.transpose(seq_log[:,50:100,:4],axes=(1,2,0)), vocab=\"RNA\", figsize=(8,3), ncol=1)\n",
    "#plt.show()\n",
    "plt.savefig('PUM2_contribution_map_negative.eps', format='eps',bbox_inches='tight')"
   ]
  },
  {
   "cell_type": "code",
   "execution_count": null,
   "metadata": {},
   "outputs": [],
   "source": [
    "RBPname = \"QKI\"\n",
    "RBP_index = np.where(RBPnames == RBPname)[0][0]\n",
    "#print (RBP_index)\n",
    "ind = [i[0] for i in sorted(enumerate(pred[:, RBP_index]), key=lambda x: x[1],\n",
    "                  reverse=True) if y_test_RBP[i[0], RBP_index] == 1 and pred[i[0], RBP_index] > 0.50][0:3]\n",
    "#print (pred[ind,RBP_index])\n",
    "#print (ind)\n",
    "ref_ind = [i[0] for i in sorted(enumerate(pred[:, RBP_index]), key=lambda x: x[1],\n",
    "                      reverse=False) if y_test_RBP[i[0], RBP_index] == 0][0:2000]\n",
    "#print (ref_ind)\n",
    "ref = np.mean(e[ref_ind], axis=0)\n",
    "#print (ref.shape)\n",
    "ex_seq = np.array([igres.explain(e[i], outc=RBP_index, reference=ref) for i in ind])\n",
    "#print (ex_seq.shape)\n",
    "seq_log = np.multiply(ex_seq, e[ind])\n",
    "#print (seq_log.shape)\n",
    "plt.close(\"all\")\n",
    "seqlogo_fig(np.transpose(seq_log[:,50:100,:4],axes=(1,2,0)), vocab=\"RNA\", figsize=(8,3), ncol=1)\n",
    "#plt.show()\n",
    "plt.savefig('QKI_contribution_map_negative.eps', format='eps',bbox_inches='tight')"
   ]
  }
 ],
 "metadata": {
  "kernelspec": {
   "display_name": "Python 3",
   "language": "python",
   "name": "python3"
  },
  "language_info": {
   "codemirror_mode": {
    "name": "ipython",
    "version": 3
   },
   "file_extension": ".py",
   "mimetype": "text/x-python",
   "name": "python",
   "nbconvert_exporter": "python",
   "pygments_lexer": "ipython3",
   "version": "3.7.3"
  }
 },
 "nbformat": 4,
 "nbformat_minor": 4
}
